{
 "cells": [
  {
   "cell_type": "code",
   "execution_count": 1,
   "metadata": {
    "collapsed": true
   },
   "outputs": [],
   "source": [
    "import  warnings\n",
    "warnings.simplefilter('ignore')\n",
    "\n",
    "import numpy as np\n",
    "import pandas as pd\n",
    "import seaborn as sns\n",
    "import matplotlib.pyplot as plt\n",
    "import scipy.stats as st\n",
    "import h2o\n",
    "from h2o.estimators.random_forest import H2ORandomForestEstimator\n",
    "\n",
    "%matplotlib inline"
   ]
  },
  {
   "cell_type": "markdown",
   "metadata": {
    "collapsed": true
   },
   "source": [
    "## Step 1: Load Data"
   ]
  },
  {
   "cell_type": "code",
   "execution_count": null,
   "metadata": {
    "collapsed": true
   },
   "outputs": [],
   "source": [
    "test_dat = pd.read_csv(r'./test_data.csv')\n",
    "viewer_dat = pd.read_csv(r'./viewer_data.csv')"
   ]
  },
  {
   "cell_type": "code",
   "execution_count": 54,
   "metadata": {},
   "outputs": [
    {
     "data": {
      "text/html": [
       "<div>\n",
       "<table border=\"1\" class=\"dataframe\">\n",
       "  <thead>\n",
       "    <tr style=\"text-align: right;\">\n",
       "      <th></th>\n",
       "      <th>viewer_id</th>\n",
       "      <th>date</th>\n",
       "      <th>tv_make</th>\n",
       "      <th>tv_size</th>\n",
       "      <th>uhd_capable</th>\n",
       "      <th>tv_provider</th>\n",
       "      <th>total_time_watched</th>\n",
       "      <th>watched</th>\n",
       "      <th>test</th>\n",
       "    </tr>\n",
       "  </thead>\n",
       "  <tbody>\n",
       "    <tr>\n",
       "      <th>0</th>\n",
       "      <td>24726768</td>\n",
       "      <td>2018-01-16</td>\n",
       "      <td>Sony</td>\n",
       "      <td>70</td>\n",
       "      <td>0</td>\n",
       "      <td>Comcast</td>\n",
       "      <td>10.75</td>\n",
       "      <td>0</td>\n",
       "      <td>1</td>\n",
       "    </tr>\n",
       "    <tr>\n",
       "      <th>1</th>\n",
       "      <td>25001464</td>\n",
       "      <td>2018-01-18</td>\n",
       "      <td>Sony</td>\n",
       "      <td>32</td>\n",
       "      <td>0</td>\n",
       "      <td>NaN</td>\n",
       "      <td>2.75</td>\n",
       "      <td>0</td>\n",
       "      <td>0</td>\n",
       "    </tr>\n",
       "    <tr>\n",
       "      <th>2</th>\n",
       "      <td>28291998</td>\n",
       "      <td>2018-01-18</td>\n",
       "      <td>Sony</td>\n",
       "      <td>50</td>\n",
       "      <td>1</td>\n",
       "      <td>Dish Network</td>\n",
       "      <td>20.00</td>\n",
       "      <td>0</td>\n",
       "      <td>0</td>\n",
       "    </tr>\n",
       "  </tbody>\n",
       "</table>\n",
       "</div>"
      ],
      "text/plain": [
       "   viewer_id        date tv_make  tv_size  uhd_capable   tv_provider  \\\n",
       "0   24726768  2018-01-16    Sony       70            0       Comcast   \n",
       "1   25001464  2018-01-18    Sony       32            0           NaN   \n",
       "2   28291998  2018-01-18    Sony       50            1  Dish Network   \n",
       "\n",
       "   total_time_watched  watched  test  \n",
       "0               10.75        0     1  \n",
       "1                2.75        0     0  \n",
       "2               20.00        0     0  "
      ]
     },
     "execution_count": 54,
     "metadata": {},
     "output_type": "execute_result"
    }
   ],
   "source": [
    "test_dat.head(3)"
   ]
  },
  {
   "cell_type": "code",
   "execution_count": 55,
   "metadata": {
    "scrolled": true
   },
   "outputs": [
    {
     "data": {
      "text/html": [
       "<div>\n",
       "<table border=\"1\" class=\"dataframe\">\n",
       "  <thead>\n",
       "    <tr style=\"text-align: right;\">\n",
       "      <th></th>\n",
       "      <th>viewer_id</th>\n",
       "      <th>gender</th>\n",
       "      <th>age</th>\n",
       "      <th>city</th>\n",
       "    </tr>\n",
       "  </thead>\n",
       "  <tbody>\n",
       "    <tr>\n",
       "      <th>0</th>\n",
       "      <td>1918165</td>\n",
       "      <td>Female</td>\n",
       "      <td>39</td>\n",
       "      <td>Dallas</td>\n",
       "    </tr>\n",
       "    <tr>\n",
       "      <th>1</th>\n",
       "      <td>27662619</td>\n",
       "      <td>Female</td>\n",
       "      <td>28</td>\n",
       "      <td>New York</td>\n",
       "    </tr>\n",
       "    <tr>\n",
       "      <th>2</th>\n",
       "      <td>5493662</td>\n",
       "      <td>Female</td>\n",
       "      <td>53</td>\n",
       "      <td>Detroit</td>\n",
       "    </tr>\n",
       "  </tbody>\n",
       "</table>\n",
       "</div>"
      ],
      "text/plain": [
       "   viewer_id  gender  age      city\n",
       "0    1918165  Female   39    Dallas\n",
       "1   27662619  Female   28  New York\n",
       "2    5493662  Female   53   Detroit"
      ]
     },
     "execution_count": 55,
     "metadata": {},
     "output_type": "execute_result"
    }
   ],
   "source": [
    "viewer_dat.head(3)"
   ]
  },
  {
   "cell_type": "code",
   "execution_count": 59,
   "metadata": {},
   "outputs": [
    {
     "name": "stdout",
     "output_type": "stream",
     "text": [
      "# of Unique Viewer of test table: 418020\n",
      "# of Unique Viewer of viewer table: 417464\n"
     ]
    }
   ],
   "source": [
    "# Check Unique Users\n",
    "print('# of Unique Viewer of test table: ' + str(test.viewer_id.unique().__len__()))\n",
    "print('# of Unique Viewer of viewer table: ' + str(viewer_dat.viewer_id.unique().__len__()))"
   ]
  },
  {
   "cell_type": "code",
   "execution_count": 61,
   "metadata": {},
   "outputs": [],
   "source": [
    "# Use left join to not lose any viewer in viewer table\n",
    "dat = test.merge(viewer, how= 'left', on = 'viewer_id')"
   ]
  },
  {
   "cell_type": "markdown",
   "metadata": {},
   "source": [
    "## Step 2: reproduce the results"
   ]
  },
  {
   "cell_type": "markdown",
   "metadata": {},
   "source": [
    "### Step 2.1 city watched rate"
   ]
  },
  {
   "cell_type": "code",
   "execution_count": 62,
   "metadata": {},
   "outputs": [
    {
     "data": {
      "image/png": "[encoded data removed]",
      "text/plain": [
       "<matplotlib.figure.Figure at 0x112473e50>"
      ]
     },
     "metadata": {},
     "output_type": "display_data"
    }
   ],
   "source": [
    "# Control group watched rate by cities\n",
    "city_watch_rate = dat[dat.test == 0].groupby(\n",
    "    'city',\n",
    "    as_index = False\n",
    ").agg(\n",
    "    {'watched':'mean'}\n",
    "     ).sort_values('watched', \n",
    "                   ascending = False).rename(columns = {'watched':'watched_rate'})\n",
    "\n",
    "# Visualization\n",
    "fig, ax = plt.subplots(figsize = (18,6))\n",
    "sns.barplot(x='city', y = 'watched_rate', data = city_watch_rate, ax = ax)\n",
    "ax.set_title('Control Group Watched Rate')\n",
    "plt.show()"
   ]
  },
  {
   "cell_type": "markdown",
   "metadata": {},
   "source": [
    "#### Result 1: \n",
    "a large fraction of people who saw the commercial for “US Politics This Week” and watched the show are from Los Angeles, while a much lower fraction of people from other cities who saw the commercial watched the show.\n",
    "\n",
    "#### Finding: \n",
    "People from Los Angelos has a much higher watched rate after they saw the commercial for “US Politics This Week”"
   ]
  },
  {
   "cell_type": "markdown",
   "metadata": {},
   "source": [
    "### Step 2.2 A/B testing analysis"
   ]
  },
  {
   "cell_type": "code",
   "execution_count": 73,
   "metadata": {},
   "outputs": [
    {
     "name": "stdout",
     "output_type": "stream",
     "text": [
      "watched rate of test group: 4.58%\n",
      "watched rate of control group: 4.99%\n"
     ]
    }
   ],
   "source": [
    "# Nothing changed in Los Angeles, so exclude LA\n",
    "dat_test = dat[dat.city != 'Los Angeles']\n",
    "\n",
    "# watched rate comparison: Test Vs Control\n",
    "print('watched rate of test group: ' + str(round(dat_test[dat_test.test == 1]['watched'].mean()*100, 2)) + '%')\n",
    "print('watched rate of control group: ' + str(round(dat_test[dat_test.test == 0]['watched'].mean()*100, 2)) + '%')"
   ]
  },
  {
   "cell_type": "code",
   "execution_count": 74,
   "metadata": {},
   "outputs": [
    {
     "data": {
      "text/plain": [
       "Ttest_indResult(statistic=-5.7204111420939894, pvalue=1.0635551786694859e-08)"
      ]
     },
     "execution_count": 74,
     "metadata": {},
     "output_type": "execute_result"
    }
   ],
   "source": [
    "st.ttest_ind(dat_test[dat_test.test == 1]['watched'],\n",
    "            dat_test[dat_test.test == 0]['watched'],\n",
    "            equal_var = False)"
   ]
  },
  {
   "cell_type": "markdown",
   "metadata": {},
   "source": [
    "#### Result 2: \n",
    "People from control group(4.99%) have a much higher watched rate than people form test group(4.58%) and it looks like statistically significant because of a very small p-value, which matched up the negative results mentioned in this Data Challenge Discription\n",
    "\n",
    "#### Finding:\n",
    "- The result 2 surprised me not only because people who watched commercial advertising with the local mayor have lower watch rate, but also the watch ratio delta is above (4.99-4.58)/4.99 = 8%, which looks even weired.\n",
    "- The reason for this weird results normaly are:\n",
    "    - The sample was not enough.\n",
    "    - The control vs test group are not assigned randomly."
   ]
  },
  {
   "cell_type": "markdown",
   "metadata": {},
   "source": [
    "## Step 3: check the size of data"
   ]
  },
  {
   "cell_type": "code",
   "execution_count": 80,
   "metadata": {},
   "outputs": [
    {
     "name": "stdout",
     "output_type": "stream",
     "text": [
      "# of Unique Viewers: 418020\n"
     ]
    }
   ],
   "source": [
    "print('# of Unique Viewers: ' + str(dat.viewer_id.unique().__len__()))"
   ]
  },
  {
   "cell_type": "code",
   "execution_count": 77,
   "metadata": {},
   "outputs": [
    {
     "data": {
      "text/plain": [
       "('2018-01-19', '2018-01-15')"
      ]
     },
     "execution_count": 77,
     "metadata": {},
     "output_type": "execute_result"
    }
   ],
   "source": [
    "# Check the range of date\n",
    "dat[dat.date.isnull()]\n",
    "dat.date.max(), dat.date.min() "
   ]
  },
  {
   "cell_type": "code",
   "execution_count": 79,
   "metadata": {},
   "outputs": [
    {
     "data": {
      "image/png": "[encoded data removed]",
      "text/plain": [
       "<matplotlib.figure.Figure at 0x113183b50>"
      ]
     },
     "metadata": {},
     "output_type": "display_data"
    }
   ],
   "source": [
    "# Visualization of dates\n",
    "fig, ax = plt.subplots(nrows=1, ncols=2, figsize=(20, 6))\n",
    "sns.countplot(x='date', hue='test', data=dat.sort_values('date'), ax=ax[0])\n",
    "ax[0].set_title('Viewer Count Plot of Date', fontsize=16)\n",
    "\n",
    "sns.barplot(x='date', y='watched', hue='test', data=dat.sort_values('date'), ax=ax[1])\n",
    "ax[1].set_title('Watched Rate per Date', fontsize=20)\n",
    "plt.tight_layout()\n",
    "plt.show()"
   ]
  },
  {
   "cell_type": "markdown",
   "metadata": {},
   "source": [
    "#### Finding 3:\n",
    "- We only collected 5 days data. However, we should always collected at least 1 week to get the weekly pattern. Or 1 month would be better.\n",
    "- Total viewers in this test is 418020. For each day, we got more than 40k viewers for control and test separately, which should be big enough.\n",
    "- The watched rate of control group were constantly better than the watched rate of test group. The variance of the delta is not big cross the days. \n",
    "\n",
    "#### Conclusion 1:\n",
    "We should have collected more days(e.g. 2 weeks). But with the current data, we can see the watched rate of control group are constantly better tan the watched rate of test group."
   ]
  },
  {
   "cell_type": "markdown",
   "metadata": {},
   "source": [
    "## Step 4: Check the randomness of test and control\n",
    "\n",
    "#### Methodology:\n",
    "- A random forest (mdepth = 2, mtries = 2, ntree = 100, seed = 2019) is to test if any varaible/feature affected heavily on whether a viewer is in test or control. \n",
    "- The accuracy of prediction is not the focus, so no train/test set split needed.\n",
    "-  Variable 'watched' is ecluded because the Target Variable is 'test'"
   ]
  },
  {
   "cell_type": "code",
   "execution_count": 10,
   "metadata": {},
   "outputs": [
    {
     "name": "stdout",
     "output_type": "stream",
     "text": [
      "Checking whether there is an H2O instance running at http://localhost:54321. connected.\n"
     ]
    },
    {
     "data": {
      "text/html": [
       "<div style=\"overflow:auto\"><table style=\"width:50%\"><tr><td>H2O cluster uptime:</td>\n",
       "<td>1 hour 57 mins</td></tr>\n",
       "<tr><td>H2O cluster timezone:</td>\n",
       "<td>America/Los_Angeles</td></tr>\n",
       "<tr><td>H2O data parsing timezone:</td>\n",
       "<td>UTC</td></tr>\n",
       "<tr><td>H2O cluster version:</td>\n",
       "<td>3.22.1.2</td></tr>\n",
       "<tr><td>H2O cluster version age:</td>\n",
       "<td>1 month and 5 days </td></tr>\n",
       "<tr><td>H2O cluster name:</td>\n",
       "<td>H2O_from_python_wenqicheng_juqbca</td></tr>\n",
       "<tr><td>H2O cluster total nodes:</td>\n",
       "<td>1</td></tr>\n",
       "<tr><td>H2O cluster free memory:</td>\n",
       "<td>1.534 Gb</td></tr>\n",
       "<tr><td>H2O cluster total cores:</td>\n",
       "<td>4</td></tr>\n",
       "<tr><td>H2O cluster allowed cores:</td>\n",
       "<td>4</td></tr>\n",
       "<tr><td>H2O cluster status:</td>\n",
       "<td>locked, healthy</td></tr>\n",
       "<tr><td>H2O connection url:</td>\n",
       "<td>http://localhost:54321</td></tr>\n",
       "<tr><td>H2O connection proxy:</td>\n",
       "<td>None</td></tr>\n",
       "<tr><td>H2O internal security:</td>\n",
       "<td>False</td></tr>\n",
       "<tr><td>H2O API Extensions:</td>\n",
       "<td>XGBoost, Algos, AutoML, Core V3, Core V4</td></tr>\n",
       "<tr><td>Python version:</td>\n",
       "<td>2.7.13 final</td></tr></table></div>"
      ],
      "text/plain": [
       "--------------------------  ----------------------------------------\n",
       "H2O cluster uptime:         1 hour 57 mins\n",
       "H2O cluster timezone:       America/Los_Angeles\n",
       "H2O data parsing timezone:  UTC\n",
       "H2O cluster version:        3.22.1.2\n",
       "H2O cluster version age:    1 month and 5 days\n",
       "H2O cluster name:           H2O_from_python_wenqicheng_juqbca\n",
       "H2O cluster total nodes:    1\n",
       "H2O cluster free memory:    1.534 Gb\n",
       "H2O cluster total cores:    4\n",
       "H2O cluster allowed cores:  4\n",
       "H2O cluster status:         locked, healthy\n",
       "H2O connection url:         http://localhost:54321\n",
       "H2O connection proxy:\n",
       "H2O internal security:      False\n",
       "H2O API Extensions:         XGBoost, Algos, AutoML, Core V3, Core V4\n",
       "Python version:             2.7.13 final\n",
       "--------------------------  ----------------------------------------"
      ]
     },
     "metadata": {},
     "output_type": "display_data"
    }
   ],
   "source": [
    "h2o.init()\n",
    "h2o.remove_all()"
   ]
  },
  {
   "cell_type": "code",
   "execution_count": 93,
   "metadata": {},
   "outputs": [
    {
     "name": "stdout",
     "output_type": "stream",
     "text": [
      "Parse progress: |█████████████████████████████████████████████████████████| 100%\n"
     ]
    }
   ],
   "source": [
    "# Transform to H2O frame\n",
    "h2o_dat = h2o.H2OFrame(dat)\n",
    "\n",
    "# Target variable is 'test'\n",
    "h2o_dat['test'] = h2o_dat['test'].asfactor()"
   ]
  },
  {
   "cell_type": "code",
   "execution_count": 94,
   "metadata": {
    "collapsed": true
   },
   "outputs": [],
   "source": [
    "feature = ['age', 'gender', 'city', 'total_time_watched', 'tv_provider', 'uhd_capable', 'tv_make', 'tv_size', 'date']\n",
    "target = 'test'"
   ]
  },
  {
   "cell_type": "code",
   "execution_count": 95,
   "metadata": {},
   "outputs": [
    {
     "name": "stdout",
     "output_type": "stream",
     "text": [
      "drf Model Build progress: |███████████████████████████████████████████████| 100%\n"
     ]
    }
   ],
   "source": [
    "random_forest = H2ORandomForestEstimator(ntrees = 100,\n",
    "                                         max_depth = 2,\n",
    "                                         mtries = 2,\n",
    "                                         seed = 2019)\n",
    "random_forest.train(x=feature, y= target, training_frame = h2o_dat)"
   ]
  },
  {
   "cell_type": "code",
   "execution_count": 92,
   "metadata": {},
   "outputs": [
    {
     "data": {
      "text/plain": [
       "(u'city', 5191.16455078125, 1.0, 0.9788613300600163)"
      ]
     },
     "execution_count": 92,
     "metadata": {},
     "output_type": "execute_result"
    }
   ],
   "source": [
    "random_forest.varimp()[0]"
   ]
  },
  {
   "cell_type": "code",
   "execution_count": 96,
   "metadata": {},
   "outputs": [
    {
     "data": {
      "image/png": "[encoded data removed]",
      "text/plain": [
       "<matplotlib.figure.Figure at 0x10f972590>"
      ]
     },
     "metadata": {},
     "output_type": "display_data"
    }
   ],
   "source": [
    "# Feature Importance\n",
    "importance = random_forest.varimp(use_pandas = True)\n",
    "\n",
    "fig, ax = plt.subplots(figsize=(12, 8))\n",
    "sns.barplot(x='scaled_importance', y='variable', data=importance)\n",
    "ax.set_title('Feature Importance', fontsize=16)\n",
    "plt.show()"
   ]
  },
  {
   "cell_type": "markdown",
   "metadata": {},
   "source": [
    "#### Finding:\n",
    "The variable 'city' is extremely important then any other variable on determining a viewer in test or control site, which means the viewers was not randomly assigned into test or control group in term of city."
   ]
  },
  {
   "cell_type": "code",
   "execution_count": 13,
   "metadata": {},
   "outputs": [
    {
     "data": {
      "image/png": "[encoded data removed]",
      "text/plain": [
       "<matplotlib.figure.Figure at 0x11c057750>"
      ]
     },
     "metadata": {},
     "output_type": "display_data"
    }
   ],
   "source": [
    "# Visualization of different cities\n",
    "fig, ax = plt.subplots(nrows=2, ncols=1, figsize=(18, 12))\n",
    "sns.countplot(x='city', hue='test', data=dat, ax=ax[0])\n",
    "ax[0].set_title('User count Plot of City', fontsize=16)\n",
    "\n",
    "sns.barplot(x='city', y='watched', hue='test', data=dat, ax=ax[1])\n",
    "ax[1].set_title('Watched Conversion Rate per City', fontsize=20)\n",
    "plt.tight_layout()\n",
    "plt.show()"
   ]
  },
  {
   "cell_type": "markdown",
   "metadata": {},
   "source": [
    "#### Finding:\n",
    "- The test vs control size in Philadelphia, Seattle are extremely off-balance.\n",
    "- The watched rates of control are not constanly higher than the watched rates of test after countries break.\n",
    "\n",
    "#### Conclusion 2:\n",
    "The viewers were not randomly assigned into control vs test in terms of countries."
   ]
  },
  {
   "cell_type": "markdown",
   "metadata": {},
   "source": [
    "## Step 5: Redo A/B test analysis breakdown by cities"
   ]
  },
  {
   "cell_type": "code",
   "execution_count": 14,
   "metadata": {},
   "outputs": [
    {
     "data": {
      "text/html": [
       "<div>\n",
       "<table border=\"1\" class=\"dataframe\">\n",
       "  <thead>\n",
       "    <tr style=\"text-align: right;\">\n",
       "      <th></th>\n",
       "      <th>city</th>\n",
       "      <th>p_value</th>\n",
       "      <th>watched_rate_test</th>\n",
       "      <th>watched_rate_control</th>\n",
       "    </tr>\n",
       "  </thead>\n",
       "  <tbody>\n",
       "    <tr>\n",
       "      <th>3</th>\n",
       "      <td>Philadelphia</td>\n",
       "      <td>0.998251</td>\n",
       "      <td>0.023474</td>\n",
       "      <td>0.023469</td>\n",
       "    </tr>\n",
       "    <tr>\n",
       "      <th>2</th>\n",
       "      <td>San Francisco</td>\n",
       "      <td>0.912800</td>\n",
       "      <td>0.049647</td>\n",
       "      <td>0.049953</td>\n",
       "    </tr>\n",
       "    <tr>\n",
       "      <th>5</th>\n",
       "      <td>Minneapolis</td>\n",
       "      <td>0.838708</td>\n",
       "      <td>0.052458</td>\n",
       "      <td>0.053151</td>\n",
       "    </tr>\n",
       "    <tr>\n",
       "      <th>6</th>\n",
       "      <td>Atlanta</td>\n",
       "      <td>0.815639</td>\n",
       "      <td>0.050877</td>\n",
       "      <td>0.050222</td>\n",
       "    </tr>\n",
       "    <tr>\n",
       "      <th>0</th>\n",
       "      <td>Boston</td>\n",
       "      <td>0.768392</td>\n",
       "      <td>0.052291</td>\n",
       "      <td>0.051454</td>\n",
       "    </tr>\n",
       "    <tr>\n",
       "      <th>12</th>\n",
       "      <td>Tampa</td>\n",
       "      <td>0.735598</td>\n",
       "      <td>0.052020</td>\n",
       "      <td>0.050925</td>\n",
       "    </tr>\n",
       "    <tr>\n",
       "      <th>14</th>\n",
       "      <td>Houston</td>\n",
       "      <td>0.663198</td>\n",
       "      <td>0.052586</td>\n",
       "      <td>0.051347</td>\n",
       "    </tr>\n",
       "    <tr>\n",
       "      <th>10</th>\n",
       "      <td>Phoenix</td>\n",
       "      <td>0.505034</td>\n",
       "      <td>0.051523</td>\n",
       "      <td>0.053665</td>\n",
       "    </tr>\n",
       "    <tr>\n",
       "      <th>11</th>\n",
       "      <td>Seattle</td>\n",
       "      <td>0.467192</td>\n",
       "      <td>0.025678</td>\n",
       "      <td>0.028110</td>\n",
       "    </tr>\n",
       "    <tr>\n",
       "      <th>9</th>\n",
       "      <td>Miami</td>\n",
       "      <td>0.442116</td>\n",
       "      <td>0.052204</td>\n",
       "      <td>0.049633</td>\n",
       "    </tr>\n",
       "    <tr>\n",
       "      <th>7</th>\n",
       "      <td>Chicago</td>\n",
       "      <td>0.357963</td>\n",
       "      <td>0.051674</td>\n",
       "      <td>0.049458</td>\n",
       "    </tr>\n",
       "    <tr>\n",
       "      <th>8</th>\n",
       "      <td>Dallas</td>\n",
       "      <td>0.246627</td>\n",
       "      <td>0.047802</td>\n",
       "      <td>0.050878</td>\n",
       "    </tr>\n",
       "    <tr>\n",
       "      <th>1</th>\n",
       "      <td>New York</td>\n",
       "      <td>0.069535</td>\n",
       "      <td>0.050011</td>\n",
       "      <td>0.053049</td>\n",
       "    </tr>\n",
       "    <tr>\n",
       "      <th>4</th>\n",
       "      <td>Detroit</td>\n",
       "      <td>0.053644</td>\n",
       "      <td>0.053198</td>\n",
       "      <td>0.046916</td>\n",
       "    </tr>\n",
       "    <tr>\n",
       "      <th>13</th>\n",
       "      <td>None</td>\n",
       "      <td>NaN</td>\n",
       "      <td>NaN</td>\n",
       "      <td>0.000000</td>\n",
       "    </tr>\n",
       "  </tbody>\n",
       "</table>\n",
       "</div>"
      ],
      "text/plain": [
       "             city   p_value  watched_rate_test  watched_rate_control\n",
       "3    Philadelphia  0.998251           0.023474              0.023469\n",
       "2   San Francisco  0.912800           0.049647              0.049953\n",
       "5     Minneapolis  0.838708           0.052458              0.053151\n",
       "6         Atlanta  0.815639           0.050877              0.050222\n",
       "0          Boston  0.768392           0.052291              0.051454\n",
       "12          Tampa  0.735598           0.052020              0.050925\n",
       "14        Houston  0.663198           0.052586              0.051347\n",
       "10        Phoenix  0.505034           0.051523              0.053665\n",
       "11        Seattle  0.467192           0.025678              0.028110\n",
       "9           Miami  0.442116           0.052204              0.049633\n",
       "7         Chicago  0.357963           0.051674              0.049458\n",
       "8          Dallas  0.246627           0.047802              0.050878\n",
       "1        New York  0.069535           0.050011              0.053049\n",
       "4         Detroit  0.053644           0.053198              0.046916\n",
       "13           None       NaN                NaN              0.000000"
      ]
     },
     "execution_count": 14,
     "metadata": {},
     "output_type": "execute_result"
    }
   ],
   "source": [
    "coun_ttest = pd.DataFrame(columns=['city','p_value','watched_rate_test','watched_rate_control'])\n",
    "for city in dat_test.city.unique():\n",
    "    df = dat_test[dat_test.city == city]\n",
    "    watched_test = df[df.test == 1]['watched']#.mean()\n",
    "    watched_control = df[df.test == 0]['watched']#.mean()\n",
    "    res = st.ttest_ind(watched_test, watched_control, equal_var = False)\n",
    "    \n",
    "    city_row = pd.Series({'city':city, \n",
    "                     'p_value':res.pvalue, \n",
    "                     'watched_rate_test':watched_test.mean(), \n",
    "                     'watched_rate_control':watched_control.mean()})\n",
    "    coun_ttest = coun_ttest.append(city_row, ignore_index= True)\n",
    "    \n",
    "coun_ttest.sort_values('p_value', ascending = False)"
   ]
  },
  {
   "cell_type": "markdown",
   "metadata": {
    "collapsed": true
   },
   "source": [
    "### Conclusion 3:\n",
    "- After countries breakdown, the delta of watched rate between test and control are no longer statistically different from 0, which means the commercial with local Mayor didn't drive the watched rate even worse.\n",
    "- But the commercial with local Mayor didn't help improve the watched rate."
   ]
  },
  {
   "cell_type": "markdown",
   "metadata": {
    "collapsed": true
   },
   "source": [
    "## Step 6 Algorithm: return Flase if the problem happens again\n",
    "The algorithm just used random forest to get the percentage of feature importance and return False if any variable has more than 50% feature importance."
   ]
  },
  {
   "cell_type": "code",
   "execution_count": 142,
   "metadata": {},
   "outputs": [],
   "source": [
    "def detect(dat, target, feature):\n",
    "    h2o_dat = h2o.H2OFrame(dat)\n",
    "\n",
    "    # Target variable is 'test'\n",
    "    h2o_dat[target] = h2o_dat[target].asfactor()\n",
    "    \n",
    "    random_forest = H2ORandomForestEstimator(ntrees = 10,\n",
    "                                             max_depth = 2,\n",
    "                                             mtries = 2,\n",
    "                                             seed = 2019)\n",
    "    random_forest.train(x=feature, y= target, training_frame = h2o_dat)\n",
    "\n",
    "    features = pd.DataFrame(columns=['feature','percentage_importance'])\n",
    "    i = 0\n",
    "    for f in random_forest.varimp():\n",
    "        feature_importance = pd.Series({'feature':random_forest.varimp()[i][0], \n",
    "                                        'percentage_importance':random_forest.varimp()[i][3]})\n",
    "        i = i+1\n",
    "#         print(feature_importance)\n",
    "        features = features.append(feature_importance, ignore_index = True)\n",
    "    \n",
    "    important_feature = features[features['percentage_importance'] > 0.5].columns[0]\n",
    "    \n",
    "    if important_feature:\n",
    "        return(False)\n",
    "    else:\n",
    "        True"
   ]
  },
  {
   "cell_type": "code",
   "execution_count": 143,
   "metadata": {},
   "outputs": [
    {
     "name": "stdout",
     "output_type": "stream",
     "text": [
      "Parse progress: |█████████████████████████████████████████████████████████| 100%\n",
      "drf Model Build progress: |███████████████████████████████████████████████| 100%\n"
     ]
    },
    {
     "data": {
      "text/plain": [
       "False"
      ]
     },
     "execution_count": 143,
     "metadata": {},
     "output_type": "execute_result"
    }
   ],
   "source": [
    "detect(dat, \n",
    "       'test', \n",
    "       ['age', 'gender', 'city', 'total_time_watched', 'tv_provider', 'uhd_capable', 'tv_make', 'tv_size', 'date'])"
   ]
  }
 ],
 "metadata": {
  "kernelspec": {
   "display_name": "Python 3",
   "language": "python",
   "name": "python3"
  },
  "language_info": {
   "codemirror_mode": {
    "name": "ipython",
    "version": 3
   },
   "file_extension": ".py",
   "mimetype": "text/x-python",
   "name": "python",
   "nbconvert_exporter": "python",
   "pygments_lexer": "ipython3",
   "version": "3.7.0"
  }
 },
 "nbformat": 4,
 "nbformat_minor": 2
}
