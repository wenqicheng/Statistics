{
 "cells": [
  {
   "cell_type": "code",
   "execution_count": 162,
   "metadata": {
    "collapsed": true
   },
   "outputs": [],
   "source": [
    "import  warnings\n",
    "warnings.simplefilter('ignore')\n",
    "\n",
    "import numpy as np\n",
    "import pandas as pd\n",
    "import re\n",
    "import seaborn as sns\n",
    "import matplotlib.pyplot as plt\n",
    "from scipy.stats import ttest_ind"
   ]
  },
  {
   "cell_type": "code",
   "execution_count": 6,
   "metadata": {},
   "outputs": [],
   "source": [
    "session = pd.read_csv(r'./sessions_assignment_data.csv').drop('Unnamed: 0', axis = 1)\n",
    "page_view = pd.read_csv(r'./page_view_assignment_data.csv').drop('Unnamed: 0', axis = 1)"
   ]
  },
  {
   "cell_type": "markdown",
   "metadata": {},
   "source": [
    "# Session"
   ]
  },
  {
   "cell_type": "code",
   "execution_count": 7,
   "metadata": {},
   "outputs": [
    {
     "data": {
      "text/html": [
       "<div>\n",
       "<table border=\"1\" class=\"dataframe\">\n",
       "  <thead>\n",
       "    <tr style=\"text-align: right;\">\n",
       "      <th></th>\n",
       "      <th>user_id</th>\n",
       "      <th>session_id</th>\n",
       "      <th>time</th>\n",
       "      <th>library</th>\n",
       "      <th>platform</th>\n",
       "      <th>device_type</th>\n",
       "      <th>country</th>\n",
       "      <th>region</th>\n",
       "      <th>city</th>\n",
       "      <th>referrer</th>\n",
       "      <th>landing_page</th>\n",
       "      <th>browser</th>\n",
       "    </tr>\n",
       "  </thead>\n",
       "  <tbody>\n",
       "    <tr>\n",
       "      <th>0</th>\n",
       "      <td>5997404239303411</td>\n",
       "      <td>3882272887709107</td>\n",
       "      <td>2018-12-01 00:00:23.689000</td>\n",
       "      <td>web</td>\n",
       "      <td>Linux</td>\n",
       "      <td>Desktop</td>\n",
       "      <td>United States</td>\n",
       "      <td>Virginia</td>\n",
       "      <td>Ashburn</td>\n",
       "      <td>NaN</td>\n",
       "      <td>www.quantcast.com/advertise/tags/</td>\n",
       "      <td>Chrome 67.0.3361</td>\n",
       "    </tr>\n",
       "    <tr>\n",
       "      <th>1</th>\n",
       "      <td>3731907393794809</td>\n",
       "      <td>7621416359335189</td>\n",
       "      <td>2018-12-01 00:08:09.620000</td>\n",
       "      <td>web</td>\n",
       "      <td>Windows 10</td>\n",
       "      <td>Desktop</td>\n",
       "      <td>United States</td>\n",
       "      <td>Washington</td>\n",
       "      <td>Redmond</td>\n",
       "      <td>https://www.quantcast.com/gdpr/consent-managem...</td>\n",
       "      <td>www.quantcast.com/top-sites/</td>\n",
       "      <td>Edge 18.18293</td>\n",
       "    </tr>\n",
       "    <tr>\n",
       "      <th>2</th>\n",
       "      <td>8536453247789191</td>\n",
       "      <td>6447216979607946</td>\n",
       "      <td>2018-12-01 00:10:15.929000</td>\n",
       "      <td>web</td>\n",
       "      <td>Windows 7</td>\n",
       "      <td>Desktop</td>\n",
       "      <td>Egypt</td>\n",
       "      <td>Cairo Governorate</td>\n",
       "      <td>Cairo</td>\n",
       "      <td>https://stealherstyle.net/advertise/</td>\n",
       "      <td>www.quantcast.com/profile/embed</td>\n",
       "      <td>Chrome 70.0.3538</td>\n",
       "    </tr>\n",
       "    <tr>\n",
       "      <th>3</th>\n",
       "      <td>1055677556138268</td>\n",
       "      <td>6151494750108324</td>\n",
       "      <td>2018-12-01 00:10:38.221000</td>\n",
       "      <td>web</td>\n",
       "      <td>Mac OS X 10.14</td>\n",
       "      <td>Desktop</td>\n",
       "      <td>Colombia</td>\n",
       "      <td>Antioquia</td>\n",
       "      <td>Medellín</td>\n",
       "      <td>http://ads.urbandictionary.com/</td>\n",
       "      <td>www.quantcast.com/top-sites</td>\n",
       "      <td>Chrome 70.0.3538</td>\n",
       "    </tr>\n",
       "    <tr>\n",
       "      <th>4</th>\n",
       "      <td>7412791623258081</td>\n",
       "      <td>639486242776629</td>\n",
       "      <td>2018-12-01 00:24:46.619000</td>\n",
       "      <td>web</td>\n",
       "      <td>Mac OS X 10.14.1</td>\n",
       "      <td>Desktop</td>\n",
       "      <td>United States</td>\n",
       "      <td>California</td>\n",
       "      <td>San Francisco</td>\n",
       "      <td>https://bugs.corp.qc/browse/UTSPUBCHRS-181</td>\n",
       "      <td>www.quantcast.com/measure/wpath%3Ap-73t-O7FWpr...</td>\n",
       "      <td>Chrome 70.0.3538</td>\n",
       "    </tr>\n",
       "  </tbody>\n",
       "</table>\n",
       "</div>"
      ],
      "text/plain": [
       "            user_id        session_id                        time library  \\\n",
       "0  5997404239303411  3882272887709107  2018-12-01 00:00:23.689000     web   \n",
       "1  3731907393794809  7621416359335189  2018-12-01 00:08:09.620000     web   \n",
       "2  8536453247789191  6447216979607946  2018-12-01 00:10:15.929000     web   \n",
       "3  1055677556138268  6151494750108324  2018-12-01 00:10:38.221000     web   \n",
       "4  7412791623258081   639486242776629  2018-12-01 00:24:46.619000     web   \n",
       "\n",
       "           platform device_type        country             region  \\\n",
       "0             Linux     Desktop  United States           Virginia   \n",
       "1        Windows 10     Desktop  United States         Washington   \n",
       "2         Windows 7     Desktop          Egypt  Cairo Governorate   \n",
       "3    Mac OS X 10.14     Desktop       Colombia          Antioquia   \n",
       "4  Mac OS X 10.14.1     Desktop  United States         California   \n",
       "\n",
       "            city                                           referrer  \\\n",
       "0        Ashburn                                                NaN   \n",
       "1        Redmond  https://www.quantcast.com/gdpr/consent-managem...   \n",
       "2          Cairo               https://stealherstyle.net/advertise/   \n",
       "3       Medellín                    http://ads.urbandictionary.com/   \n",
       "4  San Francisco         https://bugs.corp.qc/browse/UTSPUBCHRS-181   \n",
       "\n",
       "                                        landing_page           browser  \n",
       "0                  www.quantcast.com/advertise/tags/  Chrome 67.0.3361  \n",
       "1                       www.quantcast.com/top-sites/     Edge 18.18293  \n",
       "2                    www.quantcast.com/profile/embed  Chrome 70.0.3538  \n",
       "3                        www.quantcast.com/top-sites  Chrome 70.0.3538  \n",
       "4  www.quantcast.com/measure/wpath%3Ap-73t-O7FWpr...  Chrome 70.0.3538  "
      ]
     },
     "execution_count": 7,
     "metadata": {},
     "output_type": "execute_result"
    }
   ],
   "source": [
    "session.head()"
   ]
  },
  {
   "cell_type": "code",
   "execution_count": 238,
   "metadata": {},
   "outputs": [
    {
     "data": {
      "text/plain": [
       "(96895, 45002, 96887)"
      ]
     },
     "execution_count": 238,
     "metadata": {},
     "output_type": "execute_result"
    }
   ],
   "source": [
    "session.shape[0], session.user_id.unique().__len__(), session.session_id.unique().__len__()"
   ]
  },
  {
   "cell_type": "code",
   "execution_count": 235,
   "metadata": {},
   "outputs": [
    {
     "data": {
      "text/plain": [
       "(61370, 4669, 7216, 61302)"
      ]
     },
     "execution_count": 235,
     "metadata": {},
     "output_type": "execute_result"
    }
   ],
   "source": [
    "page_view.shape[0], page_view.user_id.unique().__len__(), page_view.session_id.unique().__len__(), page_view.time.unique().__len__()"
   ]
  },
  {
   "cell_type": "code",
   "execution_count": 212,
   "metadata": {},
   "outputs": [
    {
     "data": {
      "text/plain": [
       "array(['Desktop', 'Mobile', 'Tablet'], dtype=object)"
      ]
     },
     "execution_count": 212,
     "metadata": {},
     "output_type": "execute_result"
    }
   ],
   "source": [
    "session.device_type.unique()"
   ]
  },
  {
   "cell_type": "markdown",
   "metadata": {},
   "source": [
    "### Country\n",
    "- Most users from US"
   ]
  },
  {
   "cell_type": "code",
   "execution_count": 160,
   "metadata": {},
   "outputs": [
    {
     "data": {
      "image/png": "[encoded data removed]",
      "text/plain": [
       "<matplotlib.figure.Figure at 0x11c02aad0>"
      ]
     },
     "metadata": {},
     "output_type": "display_data"
    }
   ],
   "source": [
    "country_user_ct = session.groupby('country',\n",
    "                                  as_index = False).agg({'user_id':'nunique'}).sort_values('user_id',\n",
    "                                                                                           ascending = False).head(10)\n",
    "\n",
    "# Visualization\n",
    "fig, ax = plt.subplots(figsize = (15,6))\n",
    "sns.barplot(x = 'country', y = 'user_id', data = country_user_ct, ax = ax)\n",
    "plt.ylabel('Unique Visitor')\n",
    "plt.show()"
   ]
  },
  {
   "cell_type": "markdown",
   "metadata": {},
   "source": [
    "### Device type\n",
    "- Most users use PC"
   ]
  },
  {
   "cell_type": "code",
   "execution_count": 161,
   "metadata": {},
   "outputs": [
    {
     "data": {
      "image/png": "[encoded data removed]",
      "text/plain": [
       "<matplotlib.figure.Figure at 0x11ba3d590>"
      ]
     },
     "metadata": {},
     "output_type": "display_data"
    }
   ],
   "source": [
    "device_type_user_ct = session.groupby('device_type',\n",
    "                                  as_index = False).agg({'user_id':'nunique'}).sort_values('user_id',\n",
    "                                                                                           ascending = False)\n",
    "\n",
    "# Visualization\n",
    "fig, ax = plt.subplots(figsize = (6,6))\n",
    "sns.barplot(x = 'device_type', y = 'user_id', data = device_type_user_ct, ax = ax)\n",
    "plt.ylabel('Unique Visitor')\n",
    "plt.show()\n"
   ]
  },
  {
   "cell_type": "markdown",
   "metadata": {},
   "source": [
    "### Referrer"
   ]
  },
  {
   "cell_type": "code",
   "execution_count": 176,
   "metadata": {},
   "outputs": [],
   "source": [
    "session.loc[session.referrer.isnull(), 'referrer'] = 'direct'"
   ]
  },
  {
   "cell_type": "code",
   "execution_count": 298,
   "metadata": {},
   "outputs": [],
   "source": [
    "def find_referrer(referrer):\n",
    "    refer = re.search(r'https?://(www\\.)?([\\w-]+)[\\.|/].*', referrer)\n",
    "    if referrer == 'direct':\n",
    "        return('direct')\n",
    "    elif refer:\n",
    "        return(refer.group(2))\n",
    "    else:\n",
    "        return('None')"
   ]
  },
  {
   "cell_type": "code",
   "execution_count": 299,
   "metadata": {
    "collapsed": true
   },
   "outputs": [],
   "source": [
    "session['refer_site'] = session.referrer.apply(lambda x: find_referrer(x))"
   ]
  },
  {
   "cell_type": "code",
   "execution_count": 306,
   "metadata": {},
   "outputs": [
    {
     "data": {
      "text/html": [
       "<div>\n",
       "<table border=\"1\" class=\"dataframe\">\n",
       "  <thead>\n",
       "    <tr style=\"text-align: right;\">\n",
       "      <th></th>\n",
       "      <th>refer_site</th>\n",
       "      <th>user_id</th>\n",
       "      <th>session_id</th>\n",
       "    </tr>\n",
       "  </thead>\n",
       "  <tbody>\n",
       "    <tr>\n",
       "      <th>214</th>\n",
       "      <td>direct</td>\n",
       "      <td>18880</td>\n",
       "      <td>45080</td>\n",
       "    </tr>\n",
       "    <tr>\n",
       "      <th>571</th>\n",
       "      <td>quantcast</td>\n",
       "      <td>14319</td>\n",
       "      <td>28617</td>\n",
       "    </tr>\n",
       "    <tr>\n",
       "      <th>311</th>\n",
       "      <td>google</td>\n",
       "      <td>4200</td>\n",
       "      <td>5000</td>\n",
       "    </tr>\n",
       "    <tr>\n",
       "      <th>24</th>\n",
       "      <td>actup</td>\n",
       "      <td>1368</td>\n",
       "      <td>1396</td>\n",
       "    </tr>\n",
       "    <tr>\n",
       "      <th>85</th>\n",
       "      <td>baidu</td>\n",
       "      <td>802</td>\n",
       "      <td>859</td>\n",
       "    </tr>\n",
       "    <tr>\n",
       "      <th>51</th>\n",
       "      <td>amp-knowyourmeme-com</td>\n",
       "      <td>597</td>\n",
       "      <td>601</td>\n",
       "    </tr>\n",
       "    <tr>\n",
       "      <th>460</th>\n",
       "      <td>midtownchiroseattle</td>\n",
       "      <td>327</td>\n",
       "      <td>391</td>\n",
       "    </tr>\n",
       "    <tr>\n",
       "      <th>582</th>\n",
       "      <td>quora</td>\n",
       "      <td>296</td>\n",
       "      <td>320</td>\n",
       "    </tr>\n",
       "    <tr>\n",
       "      <th>142</th>\n",
       "      <td>capitolhillseattle</td>\n",
       "      <td>295</td>\n",
       "      <td>298</td>\n",
       "    </tr>\n",
       "    <tr>\n",
       "      <th>326</th>\n",
       "      <td>hockeydb</td>\n",
       "      <td>280</td>\n",
       "      <td>282</td>\n",
       "    </tr>\n",
       "  </tbody>\n",
       "</table>\n",
       "</div>"
      ],
      "text/plain": [
       "               refer_site  user_id  session_id\n",
       "214                direct    18880       45080\n",
       "571             quantcast    14319       28617\n",
       "311                google     4200        5000\n",
       "24                  actup     1368        1396\n",
       "85                  baidu      802         859\n",
       "51   amp-knowyourmeme-com      597         601\n",
       "460   midtownchiroseattle      327         391\n",
       "582                 quora      296         320\n",
       "142    capitolhillseattle      295         298\n",
       "326              hockeydb      280         282"
      ]
     },
     "execution_count": 306,
     "metadata": {},
     "output_type": "execute_result"
    }
   ],
   "source": [
    "refer_site_user_ct"
   ]
  },
  {
   "cell_type": "code",
   "execution_count": 343,
   "metadata": {},
   "outputs": [
    {
     "data": {
      "image/png": "[encoded data removed]",
      "text/plain": [
       "<matplotlib.figure.Figure at 0x1119ad990>"
      ]
     },
     "metadata": {},
     "output_type": "display_data"
    }
   ],
   "source": [
    "refer_site_user_ct = session.groupby('refer_site', as_index=False).agg({'user_id':'nunique',\n",
    "                                                    'session_id':'count'}).sort_values('user_id', ascending = False).head(10)\n",
    "\n",
    "# Visualization\n",
    "sns.set(font_scale=1.3)\n",
    "fig, ax = plt.subplots(figsize = (20,8))\n",
    "sns.barplot(x = 'refer_site', y = 'user_id', data = refer_site_user_ct, ax = ax)\n",
    "plt.ylabel('Unique Visitor')\n",
    "plt.xticks(rotation=90)\n",
    "plt.show()"
   ]
  },
  {
   "cell_type": "code",
   "execution_count": 344,
   "metadata": {},
   "outputs": [],
   "source": [
    "# session.groupby('referrer', as_index=False).agg({'user_id':'nunique',\n",
    "#                                                     'session_id':'count'}).sort_values('user_id', ascending = False).head(10)"
   ]
  },
  {
   "cell_type": "markdown",
   "metadata": {},
   "source": [
    "### Landing Page"
   ]
  },
  {
   "cell_type": "code",
   "execution_count": 345,
   "metadata": {},
   "outputs": [
    {
     "data": {
      "text/html": [
       "<div>\n",
       "<table border=\"1\" class=\"dataframe\">\n",
       "  <thead>\n",
       "    <tr style=\"text-align: right;\">\n",
       "      <th></th>\n",
       "      <th>landing_page</th>\n",
       "      <th>user_id</th>\n",
       "    </tr>\n",
       "  </thead>\n",
       "  <tbody>\n",
       "    <tr>\n",
       "      <th>848</th>\n",
       "      <td>www.quantcast.com/confirm-invite</td>\n",
       "      <td>208</td>\n",
       "    </tr>\n",
       "    <tr>\n",
       "      <th>5741</th>\n",
       "      <td>www.quantcast.com/wpath%3Ap-Zam2gwgWGbxCW%2F_f...</td>\n",
       "      <td>134</td>\n",
       "    </tr>\n",
       "    <tr>\n",
       "      <th>3345</th>\n",
       "      <td>www.quantcast.com/p-D4UhfauVNG5sh</td>\n",
       "      <td>133</td>\n",
       "    </tr>\n",
       "    <tr>\n",
       "      <th>5491</th>\n",
       "      <td>www.quantcast.com/wpath%3Ap-7dpDEyLdzKbdp%2F_f...</td>\n",
       "      <td>132</td>\n",
       "    </tr>\n",
       "    <tr>\n",
       "      <th>4334</th>\n",
       "      <td>www.quantcast.com/quantcast-top-million.zip</td>\n",
       "      <td>125</td>\n",
       "    </tr>\n",
       "  </tbody>\n",
       "</table>\n",
       "</div>"
      ],
      "text/plain": [
       "                                           landing_page  user_id\n",
       "848                    www.quantcast.com/confirm-invite      208\n",
       "5741  www.quantcast.com/wpath%3Ap-Zam2gwgWGbxCW%2F_f...      134\n",
       "3345                  www.quantcast.com/p-D4UhfauVNG5sh      133\n",
       "5491  www.quantcast.com/wpath%3Ap-7dpDEyLdzKbdp%2F_f...      132\n",
       "4334        www.quantcast.com/quantcast-top-million.zip      125"
      ]
     },
     "execution_count": 345,
     "metadata": {},
     "output_type": "execute_result"
    }
   ],
   "source": [
    "session[session.landing_page_cat == 'None'].groupby('landing_page', \n",
    "                                                    as_index = False\n",
    "                                                   ).agg({'user_id':'nunique'}).sort_values('user_id',\n",
    "                                                                                          ascending = False).head()#.user_id.sum()"
   ]
  },
  {
   "cell_type": "code",
   "execution_count": 346,
   "metadata": {
    "collapsed": true
   },
   "outputs": [],
   "source": [
    "session.loc[session.landing_page.str.contains('user/login'), 'landing_page_cat'] = 'login'\n",
    "session.loc[session.landing_page.str.contains('profile/embed'), 'landing_page_cat'] = 'profile_embed'\n",
    "session.loc[session.landing_page.str.contains('top-sites'), 'landing_page_cat'] = 'top_sites'\n",
    "session.loc[session.landing_page.str.contains('top-mobile-sites'), 'landing_page_cat'] = 'top_sites'\n",
    "session.loc[session.landing_page.str.contains('/signup'), 'landing_page_cat'] = 'signup'\n",
    "session.loc[session.landing_page.str.contains('measure'), 'landing_page_cat'] = 'measure_properties'\n",
    "session.loc[session.landing_page.str.contains('/advertise'), 'landing_page_cat'] = 'advertise'\n",
    "session.loc[session.landing_page.str.contains('quantcast.com/search'), 'landing_page_cat'] = 'search'\n",
    "session.loc[session.landing_page.str.contains('quantcast.com/marketer'), 'landing_page_cat'] = 'marketer'\n",
    "session.loc[session.landing_page.str.contains('quantcast.com/home/site/search/'), 'landing_page_cat'] = 'home_site_search'\n",
    "session.loc[session.landing_page_cat.isnull(), 'landing_page_cat'] = 'None'"
   ]
  },
  {
   "cell_type": "code",
   "execution_count": 347,
   "metadata": {},
   "outputs": [
    {
     "data": {
      "image/png": "[encoded data removed]",
      "text/plain": [
       "<matplotlib.figure.Figure at 0x11df2c550>"
      ]
     },
     "metadata": {},
     "output_type": "display_data"
    }
   ],
   "source": [
    "landing_page_user_ct = session.groupby('landing_page_cat', \n",
    "                                       as_index=False).agg({'user_id':'nunique'}).sort_values('user_id', \n",
    "                                                                                              ascending = False)\n",
    "\n",
    "# Visualization\n",
    "fig, ax = plt.subplots(figsize = (15,6))\n",
    "sns.barplot(x = 'landing_page_cat', y = 'user_id', data = landing_page_user_ct, ax = ax)\n",
    "plt.ylabel('Unique Visitor')\n",
    "plt.show()"
   ]
  },
  {
   "cell_type": "markdown",
   "metadata": {},
   "source": [
    "# Page View"
   ]
  },
  {
   "cell_type": "code",
   "execution_count": 348,
   "metadata": {},
   "outputs": [],
   "source": [
    "dat = session[['session_id',\n",
    "               'user_id',\n",
    "               'refer_site',\n",
    "               'landing_page_cat',\n",
    "               'time']].merge(page_view[['user_id',\n",
    "                                         'session_id',\n",
    "                                         'time',\n",
    "                                         'title']], \n",
    "                              how = 'inner', \n",
    "                              on = ['user_id', 'session_id'],\n",
    "                             suffixes = ('_startpoint', '_pageview'))"
   ]
  },
  {
   "cell_type": "code",
   "execution_count": 349,
   "metadata": {},
   "outputs": [
    {
     "data": {
      "text/html": [
       "<div>\n",
       "<table border=\"1\" class=\"dataframe\">\n",
       "  <thead>\n",
       "    <tr style=\"text-align: right;\">\n",
       "      <th></th>\n",
       "      <th>session_id</th>\n",
       "      <th>user_id</th>\n",
       "      <th>refer_site</th>\n",
       "      <th>landing_page_cat</th>\n",
       "      <th>time_startpoint</th>\n",
       "      <th>time_pageview</th>\n",
       "      <th>title</th>\n",
       "    </tr>\n",
       "  </thead>\n",
       "  <tbody>\n",
       "    <tr>\n",
       "      <th>0</th>\n",
       "      <td>3882272887709107</td>\n",
       "      <td>5997404239303411</td>\n",
       "      <td>direct</td>\n",
       "      <td>advertise</td>\n",
       "      <td>2018-12-01 00:00:23.689000</td>\n",
       "      <td>2018-12-01 00:00:23.689000</td>\n",
       "      <td>Tag Setup</td>\n",
       "    </tr>\n",
       "    <tr>\n",
       "      <th>1</th>\n",
       "      <td>3882272887709107</td>\n",
       "      <td>5997404239303411</td>\n",
       "      <td>direct</td>\n",
       "      <td>advertise</td>\n",
       "      <td>2018-12-01 00:00:23.689000</td>\n",
       "      <td>2018-12-01 00:00:31.548000</td>\n",
       "      <td>Login</td>\n",
       "    </tr>\n",
       "    <tr>\n",
       "      <th>2</th>\n",
       "      <td>7621416359335189</td>\n",
       "      <td>3731907393794809</td>\n",
       "      <td>quantcast</td>\n",
       "      <td>top_sites</td>\n",
       "      <td>2018-12-01 00:08:09.620000</td>\n",
       "      <td>2018-12-01 00:08:09.620000</td>\n",
       "      <td>Top International Websites &amp; Rankings | Quantcast</td>\n",
       "    </tr>\n",
       "    <tr>\n",
       "      <th>3</th>\n",
       "      <td>7621416359335189</td>\n",
       "      <td>3731907393794809</td>\n",
       "      <td>quantcast</td>\n",
       "      <td>top_sites</td>\n",
       "      <td>2018-12-01 00:08:09.620000</td>\n",
       "      <td>2018-12-01 00:08:13.644000</td>\n",
       "      <td>Top International Websites &amp; Rankings | Quantcast</td>\n",
       "    </tr>\n",
       "    <tr>\n",
       "      <th>4</th>\n",
       "      <td>7621416359335189</td>\n",
       "      <td>3731907393794809</td>\n",
       "      <td>quantcast</td>\n",
       "      <td>top_sites</td>\n",
       "      <td>2018-12-01 00:08:09.620000</td>\n",
       "      <td>2018-12-01 00:08:16.470000</td>\n",
       "      <td>Top International Websites &amp; Rankings | Quantcast</td>\n",
       "    </tr>\n",
       "  </tbody>\n",
       "</table>\n",
       "</div>"
      ],
      "text/plain": [
       "         session_id           user_id refer_site landing_page_cat  \\\n",
       "0  3882272887709107  5997404239303411     direct        advertise   \n",
       "1  3882272887709107  5997404239303411     direct        advertise   \n",
       "2  7621416359335189  3731907393794809  quantcast        top_sites   \n",
       "3  7621416359335189  3731907393794809  quantcast        top_sites   \n",
       "4  7621416359335189  3731907393794809  quantcast        top_sites   \n",
       "\n",
       "              time_startpoint               time_pageview  \\\n",
       "0  2018-12-01 00:00:23.689000  2018-12-01 00:00:23.689000   \n",
       "1  2018-12-01 00:00:23.689000  2018-12-01 00:00:31.548000   \n",
       "2  2018-12-01 00:08:09.620000  2018-12-01 00:08:09.620000   \n",
       "3  2018-12-01 00:08:09.620000  2018-12-01 00:08:13.644000   \n",
       "4  2018-12-01 00:08:09.620000  2018-12-01 00:08:16.470000   \n",
       "\n",
       "                                               title  \n",
       "0                                          Tag Setup  \n",
       "1                                              Login  \n",
       "2  Top International Websites & Rankings | Quantcast  \n",
       "3  Top International Websites & Rankings | Quantcast  \n",
       "4  Top International Websites & Rankings | Quantcast  "
      ]
     },
     "execution_count": 349,
     "metadata": {},
     "output_type": "execute_result"
    }
   ],
   "source": [
    "dat.head()"
   ]
  },
  {
   "cell_type": "code",
   "execution_count": 350,
   "metadata": {},
   "outputs": [
    {
     "data": {
      "text/plain": [
       "((56923, 7), (7139, 7))"
      ]
     },
     "execution_count": 350,
     "metadata": {},
     "output_type": "execute_result"
    }
   ],
   "source": [
    "dat.shape, dat[dat.time_startpoint == dat.time_pageview].shape"
   ]
  },
  {
   "cell_type": "code",
   "execution_count": 351,
   "metadata": {
    "collapsed": true
   },
   "outputs": [],
   "source": [
    "pageview_user_ct = dat[dat.time_startpoint != dat.time_pageview].groupby(\n",
    "    'landing_page_cat', \n",
    "    as_index = False\n",
    ").agg(\n",
    "    {'user_id':'nunique',\n",
    "     'session_id':'nunique',\n",
    "     'time_pageview':'count'}).rename(columns = {'time_pageview':'pageview'})"
   ]
  },
  {
   "cell_type": "code",
   "execution_count": 352,
   "metadata": {},
   "outputs": [
    {
     "data": {
      "image/png": "[encoded data removed]",
      "text/plain": [
       "<matplotlib.figure.Figure at 0x11c1c7bd0>"
      ]
     },
     "metadata": {},
     "output_type": "display_data"
    }
   ],
   "source": [
    "pageview_rate = pageview_user_ct.merge(landing_page_user_ct, \n",
    "                                    how = 'inner', \n",
    "                                    on = 'landing_page_cat',\n",
    "                                   suffixes = ('_viewing','_landing'))\n",
    "pageview_rate['pageview_rate'] = page_view_rate['user_id_viewing']/page_view_rate['user_id_landing']\n",
    "\n",
    "# Visualization\n",
    "fig, ax = plt.subplots(figsize = (15,6))\n",
    "sns.barplot(x = 'landing_page_cat', \n",
    "            y = 'pageview_rate',\n",
    "            data = pageview_rate.sort_values('pageview_rate', ascending = False), \n",
    "            ax = ax)\n",
    "plt.ylabel('pageview_ratio')\n",
    "plt.show()"
   ]
  },
  {
   "cell_type": "code",
   "execution_count": null,
   "metadata": {
    "collapsed": true
   },
   "outputs": [],
   "source": []
  },
  {
   "cell_type": "code",
   "execution_count": null,
   "metadata": {
    "collapsed": true
   },
   "outputs": [],
   "source": []
  },
  {
   "cell_type": "code",
   "execution_count": null,
   "metadata": {
    "collapsed": true
   },
   "outputs": [],
   "source": []
  },
  {
   "cell_type": "code",
   "execution_count": null,
   "metadata": {
    "collapsed": true
   },
   "outputs": [],
   "source": []
  },
  {
   "cell_type": "code",
   "execution_count": null,
   "metadata": {
    "collapsed": true
   },
   "outputs": [],
   "source": []
  },
  {
   "cell_type": "code",
   "execution_count": null,
   "metadata": {
    "collapsed": true
   },
   "outputs": [],
   "source": []
  }
 ],
 "metadata": {
  "kernelspec": {
   "display_name": "Python 3",
   "language": "python",
   "name": "python3"
  },
  "language_info": {
   "codemirror_mode": {
    "name": "ipython",
    "version": 3
   },
   "file_extension": ".py",
   "mimetype": "text/x-python",
   "name": "python",
   "nbconvert_exporter": "python",
   "pygments_lexer": "ipython3",
   "version": "3.7.0"
  }
 },
 "nbformat": 4,
 "nbformat_minor": 2
}
