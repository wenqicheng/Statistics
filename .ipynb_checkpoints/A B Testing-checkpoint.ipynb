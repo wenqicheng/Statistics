{
 "cells": [
  {
   "cell_type": "code",
   "execution_count": 1,
   "metadata": {
    "collapsed": true
   },
   "outputs": [],
   "source": [
    "import matplotlib.pyplot as plt\n",
    "from matplotlib.pyplot import text\n",
    "import numpy as np\n",
    "import scipy.stats as stats\n",
    "import math "
   ]
  },
  {
   "cell_type": "code",
   "execution_count": 18,
   "metadata": {
    "collapsed": true
   },
   "outputs": [],
   "source": [
    "from IPython.display import HTML\n",
    "import random\n",
    "\n",
    "def hide_toggle(for_next=False):\n",
    "    this_cell = \"\"\"$('div.cell.code_cell.rendered.selected')\"\"\"\n",
    "    next_cell = this_cell + '.next()'\n",
    "\n",
    "    toggle_text = 'Toggle show/hide'  # text shown on toggle link\n",
    "    target_cell = this_cell  # target cell to control with toggle\n",
    "    js_hide_current = ''  # bit of JS to permanently hide code in current cell (only when toggling next cell)\n",
    "\n",
    "    if for_next:\n",
    "        target_cell = next_cell\n",
    "        toggle_text += ' next cell'\n",
    "        js_hide_current = this_cell + '.find(\"div.input\").hide();'\n",
    "\n",
    "    js_f_name = 'code_toggle_{}'.format(str(random.randint(1,2**64)))\n",
    "\n",
    "    html = \"\"\"\n",
    "        <script>\n",
    "            function {f_name}() {{\n",
    "                {cell_selector}.find('div.input').toggle();\n",
    "            }}\n",
    "\n",
    "            {js_hide_current}\n",
    "        </script>\n",
    "\n",
    "        <a href=\"javascript:{f_name}()\">{toggle_text}</a>\n",
    "    \"\"\".format(\n",
    "        f_name=js_f_name,\n",
    "        cell_selector=target_cell,\n",
    "        js_hide_current=js_hide_current, \n",
    "        toggle_text=toggle_text\n",
    "    )\n",
    "\n",
    "    return HTML(html)"
   ]
  },
  {
   "cell_type": "code",
   "execution_count": 1,
   "metadata": {
    "tags": [
     "remove_cell"
    ]
   },
   "outputs": [],
   "source": [
    "# from IPython.display import HTML\n",
    "\n",
    "# HTML('''<script>\n",
    "# code_show=true; \n",
    "# function code_toggle() {\n",
    "#  if (code_show){\n",
    "#  $('div.input').hide();\n",
    "#  } else {\n",
    "#  $('div.input').show();\n",
    "#  }\n",
    "#  code_show = !code_show\n",
    "# } \n",
    "# $( document ).ready(code_toggle);\n",
    "# </script>\n",
    "# <form action=\"javascript:code_toggle()\"><input type=\"submit\" value=\"Click here to toggle on/off the raw code.\"></form>''')"
   ]
  },
  {
   "cell_type": "code",
   "execution_count": 7,
   "metadata": {
    "tags": [
     "hide_input"
    ]
   },
   "outputs": [
    {
     "name": "stdout",
     "output_type": "stream",
     "text": [
      "1\n"
     ]
    }
   ],
   "source": [
    "print(1)"
   ]
  },
  {
   "cell_type": "markdown",
   "metadata": {},
   "source": [
    "# Normal Approximation\n",
    "\n",
    "#### Normal approximation to binomial distribution\n",
    "The reason why we use it:\n",
    "- It is easy for probability calculations\n",
    "- the binomial distribution is perfectly symmetric if p = 0.5 and hs some skewness when p <> 0.5  \n",
    "- the normal approxiamtion works best when p is close to 0.5 and when n is large\n",
    "- roughly, the normal approxiamtion is reasonable if both np >= 10 and n(1-p) >= 10\n",
    "\n",
    "#### Examples: samples from binomial distribution.\n",
    "From Binomial distribution $X_1\\sim B(n_1p_1, n_1p_1(1-p_1))$, Normal Approximation: \n",
    "<center>$X_1\\sim N(n_1p_1, n_1p_1(1-p_1))$<center/>"
   ]
  },
  {
   "cell_type": "markdown",
   "metadata": {},
   "source": [
    "# Proportion Z-test\n",
    "\n",
    "- Control Group: sample size __n1__, conversion __c1__, assume the true probability is __p1__\n",
    "- Treatment Group: sample size __n2__, conversion __c2__, assume the true probablity is __p2__\n",
    "\n",
    "#### Hypothesis\n",
    "- $H_0: p_1 = p2$\n",
    "- $H_1: p_1 \\neq p2$\n",
    "\n",
    "#### Step 1\n",
    "- Sample 1: $\\frac{c_1}{n_1} \\sim B(n_1p_1, n_1p_1(1-p_1))$ \n",
    "- Sample 2: $\\frac{c_2}{n_2} \\sim B(n_2p_2, n_2p_2(1-p_2))$  \n",
    "\n",
    "#### Step 2. Normal approximation\n",
    "- Sample 1 \n",
    "    - $c_1 \\sim N(n_1p_1, n_1p_1(1-p_1))$ \n",
    "    - $\\frac{c_1}{n_1} \\sim N(p_1, \\frac{p_1(1-p_1)}{n_1})$ \n",
    "- Sample 2 \n",
    "    - $c_2 \\sim N(n_2p_2, n_2p_2(2-p_2))$ \n",
    "    - $\\frac{c_2}{n_2} \\sim N(p_2, \\frac{p_2(2-p_2)}{n_2})$ \n",
    "\n",
    "#### Step 3. The question is transformed into a comparison of the means between two Normal Distribution\n",
    "- $\\frac{c_1}{n_1} - \\frac{c_2}{n_2} \\sim N(p_1 - p_2, \\frac{p_1(1-p_1)}{n_1} + \\frac{p_2(1-p_2)}{n_2})$  \n",
    "- $\\frac{\\frac{c_1}{n_1} - \\frac{c_2}{n_2} - (p_1 - p_2)}{\\sqrt{\\frac{p_1(1-p_1)}{n_1} + \\frac{p_2(1-p_2)}{n_2}}} \\sim N(0,1)$\n",
    "- $H_0$ is true:\n",
    "    - $ p_1 = p_2 = p$\n",
    "    - $\\frac{\\frac{c_1}{n_1} - \\frac{c_2}{n_2}}{\\sqrt{{p(1-p)(\\frac{1}{n_1} + \\frac{1}{n_2})}}} \\sim N(0,1)$\n",
    "    \n",
    "#### Step 4. Estimation of Standard Error by estimating p\n",
    "- Estimate: $p = \\frac{c1 + c2}{n_1+n_2}$\n",
    "- SE = $\\sqrt{p(1-p)(\\frac{1}{n_1} + \\frac{1}{n_2})}$\n",
    "\n",
    "#### Step 5. Z-score and CI\n",
    "- $Z_{score} = \\frac{\\frac{c_1}{n_1} - \\frac{c_2}{n_2}}{SE}$, where \n",
    "    - SE = $\\sqrt{{p(1-p)(\\frac{1}{n_1} + \\frac{1}{n_2})}}$\n",
    "    - $p = \\frac{c1 + c2}{n_1+n_2}$\n",
    "- CI: $\\frac{c_1}{n_1} - \\frac{c_2}{n_2} \\pm Z_{\\alpha/2} * SE$"
   ]
  },
  {
   "cell_type": "markdown",
   "metadata": {
    "collapsed": true
   },
   "source": [
    "# Sample Size\n"
   ]
  },
  {
   "cell_type": "markdown",
   "metadata": {
    "collapsed": true
   },
   "source": [
    "#### Parameters:\n",
    "- the conversion rate value of the control group\n",
    "- the minimum difference (Dmin) between the values of variations A and B conversion rates which is practically significant\n",
    "- chosen confidence/significance($\\alpha$) level\n",
    "- chosen statistical power ($1-\\beta$)\n",
    "- type of the test: one-or two-tailed test"
   ]
  },
  {
   "cell_type": "markdown",
   "metadata": {},
   "source": [
    "$\\frac{(\\frac{c_1}{n_1} - \\frac{c_2}{n_2}) - (p_1 - p_2)}{\\sqrt{{p(1-p)(\\frac{1}{n_1} + \\frac{1}{n_2})}}} \\sim N(0,1)$\n",
    "\n",
    "- If Null Hypothesis is __True__, then:\n",
    "<center>$\\frac{\\frac{c_1}{n_1} - \\frac{c_2}{n_2}}{\\sqrt{{p(1-p)(\\frac{1}{n_1} + \\frac{1}{n_2})}}} \\sim N(0,1)$<center/>  \n",
    "\n",
    "- If Null Hypothesis is __False__, then $d = p_1 - p_2$:\n",
    "<center>$\\frac{(\\frac{c_1}{n_1} - \\frac{c_2}{n_2})}{\\sqrt{{p(1-p)(\\frac{1}{n_1} + \\frac{1}{n_2})}}} \\sim N(\\frac{d}{\\sqrt{{p(1-p)(\\frac{1}{n_1} + \\frac{1}{n_2})}}},1)$<center/>"
   ]
  },
  {
   "cell_type": "code",
   "execution_count": 10,
   "metadata": {
    "scrolled": false,
    "tags": [
     "remove_cell"
    ]
   },
   "outputs": [
    {
     "data": {
      "image/png": "[encoded data removed]",
      "text/plain": [
       "<matplotlib.figure.Figure at 0x10fc3b3d0>"
      ]
     },
     "metadata": {},
     "output_type": "display_data"
    },
    {
     "data": {
      "text/html": [
       "\n",
       "        <script>\n",
       "            function code_toggle_14332210410126660101() {\n",
       "                $('div.cell.code_cell.rendered.selected').find('div.input').toggle();\n",
       "            }\n",
       "\n",
       "            \n",
       "        </script>\n",
       "\n",
       "        <a href=\"javascript:code_toggle_14332210410126660101()\">Toggle show/hide</a>\n",
       "    "
      ],
      "text/plain": [
       "<IPython.core.display.HTML object>"
      ]
     },
     "execution_count": 10,
     "metadata": {},
     "output_type": "execute_result"
    }
   ],
   "source": [
    "fig,ax = plt.subplots(1, figsize=(12,8))\n",
    "\n",
    "mu1 = 0\n",
    "variance1 = 1\n",
    "sigma1 = math.sqrt(variance1)\n",
    "x1 = np.linspace(mu1 - 4*sigma1, mu1 + 4*sigma1, 100)\n",
    "ax.plot(x1, stats.norm.pdf(x1, mu1, sigma1), label=r'$H_0$ is True')\n",
    "\n",
    "mu2 = 4\n",
    "variance2 = 1\n",
    "sigma2 = math.sqrt(variance2)\n",
    "x2 = np.linspace(mu2 - 4*sigma2, mu2 + 4*sigma2, 200)\n",
    "ax.plot(x2, stats.norm.pdf(x2, mu2, sigma2), label=r'$H_0$ is False')\n",
    "\n",
    "ax.axvline(x=0, color='black', linestyle='--')\n",
    "ax.axvline(x=4, color='black', linestyle='--')\n",
    "ax.axvline(x=3, color='red', linestyle='--')\n",
    "text(3, 0.05, r'$Z_{1-\\frac{\\alpha}{2}}$', rotation=90, verticalalignment='center',fontsize=20)\n",
    "\n",
    "ax.set_xticklabels(['', '', '','0','',r'$\\frac{d}{\\sqrt{{p(1-p)(\\frac{1}{n_1} + \\frac{1}{n_2})}}}$'])\n",
    "ax.tick_params(axis=\"x\", labelsize=20)\n",
    "\n",
    "ax.legend()\n",
    "plt.show()\n",
    "\n",
    "hide_toggle()"
   ]
  },
  {
   "cell_type": "markdown",
   "metadata": {},
   "source": [
    "$Z_{1-\\frac{\\alpha}{2}} + Z_{1-\\beta} = \\frac{d}{\\sqrt{{p(1-p)(\\frac{1}{n_1} + \\frac{1}{n_2})}}}$"
   ]
  },
  {
   "cell_type": "markdown",
   "metadata": {},
   "source": [
    "$n = n_1 = n_2k$"
   ]
  },
  {
   "cell_type": "markdown",
   "metadata": {},
   "source": [
    "$(Z_{\\frac{\\alpha}{2}} + Z_{\\beta})^2{p(1-p)(\\frac{1+k}{n_1}}) = d^2 < Dmin^2$"
   ]
  },
  {
   "cell_type": "markdown",
   "metadata": {},
   "source": [
    "$\\frac{2p(1-p)(Z_{\\frac{\\alpha}{2}} + Z_{\\beta})^2}{d_{min}^2} > n$"
   ]
  },
  {
   "cell_type": "code",
   "execution_count": null,
   "metadata": {
    "collapsed": true
   },
   "outputs": [],
   "source": [
    "#Let's place this estimators into a dictionary for ease of use later\n",
    "baseline = {\"Cookies\":40000,\"Clicks\":3200,\"Enrollments\":660,\"CTP\":0.08,\"GConversion\":0.20625,\n",
    "           \"Retention\":0.53,\"NConversion\":0.109313}"
   ]
  },
  {
   "cell_type": "code",
   "execution_count": 50,
   "metadata": {},
   "outputs": [
    {
     "data": {
      "text/plain": [
       "{'CTP': 0.08,\n",
       " 'Clicks': 400.0,\n",
       " 'Cookies': 5000,\n",
       " 'Enrollments': 82.5,\n",
       " 'GConversion': 0.20625,\n",
       " 'NConversion': 0.109313,\n",
       " 'Retention': 0.53}"
      ]
     },
     "execution_count": 50,
     "metadata": {},
     "output_type": "execute_result"
    }
   ],
   "source": [
    "#Let's place this estimators into a dictionary for ease of use later\n",
    "baseline = {\"Cookies\":40000,\"Clicks\":3200,\"Enrollments\":660,\"CTP\":0.08,\"GConversion\":0.20625,\n",
    "           \"Retention\":0.53,\"NConversion\":0.109313}\n",
    "\n",
    "\n",
    "#Scale The counts estimates\n",
    "baseline[\"Cookies\"] = 5000\n",
    "baseline[\"Clicks\"]=baseline[\"Clicks\"]*(5000*1.0/40000)\n",
    "baseline[\"Enrollments\"]=baseline[\"Enrollments\"]*(5000*1.0/40000)\n",
    "baseline"
   ]
  },
  {
   "cell_type": "code",
   "execution_count": 51,
   "metadata": {},
   "outputs": [
    {
     "data": {
      "text/plain": [
       "0.0202"
      ]
     },
     "execution_count": 51,
     "metadata": {},
     "output_type": "execute_result"
    }
   ],
   "source": [
    "# Let's get the p and n we need for Gross Conversion (GC)\n",
    "# and compute the Stansard Deviation(sd) rounded to 4 decimal digits.\n",
    "GC={}\n",
    "GC[\"d_min\"]=0.01\n",
    "GC[\"p\"]=baseline[\"GConversion\"]\n",
    "#p is given in this case - or we could calculate it from enrollments/clicks\n",
    "GC[\"n\"]=baseline[\"Clicks\"]\n",
    "GC[\"sd\"]=round(math.sqrt((GC[\"p\"]*(1-GC[\"p\"]))/GC[\"n\"]),4)\n",
    "GC[\"sd\"]"
   ]
  },
  {
   "cell_type": "code",
   "execution_count": 59,
   "metadata": {},
   "outputs": [
    {
     "data": {
      "text/plain": [
       "{'d_min': 0.01, 'n': 400.0, 'p': 0.20625, 'sd': 0.0202}"
      ]
     },
     "execution_count": 59,
     "metadata": {},
     "output_type": "execute_result"
    }
   ],
   "source": [
    "GC"
   ]
  },
  {
   "cell_type": "code",
   "execution_count": 55,
   "metadata": {
    "collapsed": true
   },
   "outputs": [],
   "source": [
    "a = GC['p']"
   ]
  },
  {
   "cell_type": "code",
   "execution_count": 58,
   "metadata": {},
   "outputs": [
    {
     "data": {
      "text/plain": [
       "0.020230604137049392"
      ]
     },
     "execution_count": 58,
     "metadata": {},
     "output_type": "execute_result"
    }
   ],
   "source": [
    "math.sqrt(a*(1-a)/400)"
   ]
  },
  {
   "cell_type": "code",
   "execution_count": null,
   "metadata": {
    "collapsed": true
   },
   "outputs": [],
   "source": []
  }
 ],
 "metadata": {
  "celltoolbar": "Tags",
  "kernelspec": {
   "display_name": "Python 2",
   "language": "python",
   "name": "python2"
  },
  "language_info": {
   "codemirror_mode": {
    "name": "ipython",
    "version": 2
   },
   "file_extension": ".py",
   "mimetype": "text/x-python",
   "name": "python",
   "nbconvert_exporter": "python",
   "pygments_lexer": "ipython2",
   "version": "2.7.13"
  }
 },
 "nbformat": 4,
 "nbformat_minor": 2
}
