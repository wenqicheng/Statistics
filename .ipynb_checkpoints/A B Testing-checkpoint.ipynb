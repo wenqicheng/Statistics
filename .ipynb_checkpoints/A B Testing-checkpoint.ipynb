{
 "cells": [
  {
   "cell_type": "markdown",
   "metadata": {},
   "source": [
    "# Normal Approximation\n",
    "\n",
    "#### Normal approximation to binomial distribution\n",
    "The reason why we use it:\n",
    "- It is easy for probability calculations\n",
    "- the binomial distribution is perfectly symmetric if p = 0.5 and hs some skewness when p <> 0.5  \n",
    "- the normal approxiamtion works best when p is close to 0.5 and when n is large\n",
    "- roughly, the normal approxiamtion is reasonable if both np >= 10 and n(1-p) >= 10\n",
    "\n",
    "#### Examples: samples from binomial distribution.\n",
    "From Binomial distribution $X_1\\sim B(n_1p_1, n_1p_1(1-p_1))$, Normal Approximation: \n",
    "<center>$X_1\\sim N(n_1p_1, n_1p_1(1-p_1))$<center/>"
   ]
  },
  {
   "cell_type": "markdown",
   "metadata": {},
   "source": [
    "# Proportion Z-test\n",
    "\n",
    "- Control Group: sample size __n1__, conversion __c1__, assume the true probability is __p1__\n",
    "- Treatment Group: sample size __n2__, conversion __c2__, assume the true probablity is __p2__\n",
    "\n",
    "#### Hypothesis\n",
    "- $H_0: p_1 = p2$\n",
    "- $H_1: p_1 \\neq p2$\n",
    "\n",
    "#### Step 1\n",
    "- Sample 1: $\\frac{c_1}{n_1} \\sim B(n_1p_1, n_1p_1(1-p_1))$ \n",
    "- Sample 2: $\\frac{c_2}{n_2} \\sim B(n_2p_2, n_2p_2(1-p_2))$  \n",
    "\n",
    "#### Step 2. Normal approximation\n",
    "- Sample 1 \n",
    "    - $c_1 \\sim N(n_1p_1, n_1p_1(1-p_1))$ \n",
    "    - $\\frac{c_1}{n_1} \\sim N(p_1, \\frac{p_1(1-p_1)}{n_1})$ \n",
    "- Sample 2 \n",
    "    - $c_2 \\sim N(n_2p_2, n_2p_2(2-p_2))$ \n",
    "    - $\\frac{c_2}{n_2} \\sim N(p_2, \\frac{p_2(2-p_2)}{n_2})$ \n",
    "\n",
    "#### Step 3. The question is transformed into a comparison of the means between two Normal Distribution\n",
    "- $\\frac{c_1}{n_1} - \\frac{c_2}{n_2} \\sim N(p_1 - p_2, \\frac{p_1(1-p_1)}{n_1} + \\frac{p_2(1-p_2)}{n_2})$  \n",
    "- $\\frac{\\frac{c_1}{n_1} - \\frac{c_2}{n_2} - (p_1 - p_2)}{\\sqrt{\\frac{p_1(1-p_1)}{n_1} + \\frac{p_2(1-p_2)}{n_2}}} \\sim N(0,1)$\n",
    "- $H_0$ is true:\n",
    "    - $ p_1 = p_2 = p$\n",
    "    - $\\frac{\\frac{c_1}{n_1} - \\frac{c_2}{n_2}}{\\sqrt{{p(1-p)(\\frac{1}{n_1} + \\frac{1}{n_2})}}} \\sim N(0,1)$\n",
    "    \n",
    "#### Step 4. Estimation of Standard Deviation by Standard Error\n",
    "- Estimate: $p = \\frac{c1 + c2}{n_1+n_2}$\n",
    "- SE = $p(1-p)(\\frac{1}{n_1} + \\frac{1}{n_2})$\n",
    "\n",
    "#### Step 5. Z-score and CI\n",
    "- $Z_{score} = \\frac{\\frac{c_1}{n_1} - \\frac{c_2}{n_2}}{SE}$, where \n",
    "    - SE = $\\sqrt{{p(1-p)(\\frac{1}{n_1} + \\frac{1}{n_2})}}$\n",
    "    - $p = \\frac{c1 + c2}{n_1+n_2}$\n",
    "- CI: $\\frac{c_1}{n_1} - \\frac{c_2}{n_2} \\pm Z_{\\alpha/2} * SE = 0 \\pm Z_{\\alpha/2} * SE$"
   ]
  },
  {
   "cell_type": "markdown",
   "metadata": {},
   "source": [
    "$\\sqrt{{p(1-p)(\\frac{1}{n_1} + \\frac{1}{n_2})}}$"
   ]
  },
  {
   "cell_type": "code",
   "execution_count": null,
   "metadata": {
    "collapsed": true
   },
   "outputs": [],
   "source": []
  }
 ],
 "metadata": {
  "kernelspec": {
   "display_name": "Python 2",
   "language": "python",
   "name": "python2"
  },
  "language_info": {
   "codemirror_mode": {
    "name": "ipython",
    "version": 2
   },
   "file_extension": ".py",
   "mimetype": "text/x-python",
   "name": "python",
   "nbconvert_exporter": "python",
   "pygments_lexer": "ipython2",
   "version": "2.7.13"
  }
 },
 "nbformat": 4,
 "nbformat_minor": 2
}
