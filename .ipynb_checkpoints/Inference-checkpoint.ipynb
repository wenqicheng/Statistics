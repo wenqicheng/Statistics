{
 "cells": [
  {
   "cell_type": "code",
   "execution_count": 1,
   "metadata": {
    "collapsed": true
   },
   "outputs": [],
   "source": [
    "import pandas as pd\n",
    "import numpy as np\n",
    "import scipy.stats as st"
   ]
  },
  {
   "cell_type": "markdown",
   "metadata": {},
   "source": [
    "## Permutation Test\n",
    "\n",
    "|Outcome|Price A|Price B|\n",
    "|-------|-------|-------|\n",
    "|Conversion|200|182|\n",
    "|No conversion|23539|22406|\n",
    "\n",
    "We want to test if the delta of conversion rate between Price A and Price B is due to chance variation. Because of no normality, we use permutaiton test.\n",
    "\n",
    "$H_0$: there is no difference of conversion ratios between Price A and Price B  \n",
    "$H_1$: there is significant difference of conversion ratios between Price A and Price B"
   ]
  },
  {
   "cell_type": "code",
   "execution_count": 2,
   "metadata": {},
   "outputs": [
    {
     "data": {
      "text/plain": [
       "(0.008496537660903181, 0.008122824243506204, 0.00037371341739697757)"
      ]
     },
     "execution_count": 2,
     "metadata": {},
     "output_type": "execute_result"
    }
   ],
   "source": [
    "con_rate_pa = 200/23539\n",
    "con_rate_pb = 182/22406\n",
    "delta = con_rate_pa - con_rate_pb\n",
    "con_rate_pa, con_rate_pb, delta"
   ]
  },
  {
   "cell_type": "code",
   "execution_count": 3,
   "metadata": {
    "collapsed": true
   },
   "outputs": [],
   "source": [
    "sizeA, sizeB = 200 + 23539, 182 + 22406\n",
    "pool = np.hstack([np.array([0] * (23539+22406)), np.array([1] * (200+182))])"
   ]
  },
  {
   "cell_type": "code",
   "execution_count": 101,
   "metadata": {
    "collapsed": true
   },
   "outputs": [],
   "source": [
    "def permutation_test(pool, sizeA, sizeB):\n",
    "    np.random.shuffle(pool)\n",
    "    \n",
    "    groupa = pool[:sizeA]\n",
    "    groupb = pool[-sizeB:]\n",
    "    \n",
    "    return(sum(groupa)/sizeA - sum(groupb)/sizeB)"
   ]
  },
  {
   "cell_type": "code",
   "execution_count": 111,
   "metadata": {
    "collapsed": true
   },
   "outputs": [],
   "source": [
    "numsample = 10000\n",
    "estimates = list(map(lambda x:permutation_test(pool, sizeA, sizeB), range(numsample)))\n",
    "count = [x for x in estimates if x > delta]\n",
    "p_value = count.__len__()/numsample"
   ]
  },
  {
   "cell_type": "code",
   "execution_count": 112,
   "metadata": {},
   "outputs": [
    {
     "data": {
      "text/plain": [
       "0.3144"
      ]
     },
     "execution_count": 112,
     "metadata": {},
     "output_type": "execute_result"
    }
   ],
   "source": [
    "p_value"
   ]
  },
  {
   "cell_type": "code",
   "execution_count": null,
   "metadata": {
    "collapsed": true
   },
   "outputs": [],
   "source": []
  },
  {
   "cell_type": "markdown",
   "metadata": {},
   "source": [
    "## Normal Approximation\n",
    "\n",
    "#### Normal approximation to binomial distribution\n",
    "The reason why we use it:\n",
    "- It is easy for probability calculations\n",
    "- the binomial distribution is perfectly symmetric if p = 0.5 and hs some skewness when p <> 0.5  \n",
    "- the normal approxiamtion works best when p is close to 0.5 and when n is large\n",
    "- roughly, the normal approxiamtion is reasonable if both np >= 10 and n(1-p) >= 10\n",
    "\n",
    "#### Examples: samples from binomial distribution.\n",
    "From Binomial distribution $X_1\\sim B(n_1p_1, n_1p_1(1-p_1))$, Normal Approximation: \n",
    "<center>$X_1\\sim N(n_1p_1, n_1p_1(1-p_1))$<center/>"
   ]
  },
  {
   "cell_type": "markdown",
   "metadata": {},
   "source": [
    "## Proportion Z-test\n",
    "\n",
    "#### Normal approximation to binomial distribution\n",
    "The reason why we use it:\n",
    "- It is easy for probability calculations\n",
    "- the binomial distribution is perfectly symmetric if p = 0.5 and hs some skewness when p <> 0.5  \n",
    "- the normal approxiamtion works best when p is close to 0.5 and when n is large\n",
    "- roughly, the normal approxiamtion is reasonable if both np >= 10 and n(1-p) >= 10\n",
    "\n",
    "#### Examples: samples from binomial distribution.\n",
    "- From Binomial distribution B1(n1, p1): sample size n1, success s1\n",
    "- From Binomial distribution B2(n2, p2): sample size n2, success s2\n",
    "\n",
    "#### Step 1. We want to test if the probabilities of the binomial distributions we samples from are the same. (p1 VS p2) \n",
    "#### Step 2. Normal approximation to Binomial Distribution:\n",
    "$S_1$(Sample 1) $\\sim B(n_1p_1, n_1p_1(1-p_1))$ \n",
    "- Approximation: $N(n_1p_1, n_1p_1(1-p_1))$ \n",
    "- $P_1$(Proportion 1) = $\\frac{S_1}{n_1} \\sim N(p_1, \\frac{p_1(1-p_1)}{n1})$ \n",
    "\n",
    "$S_2$(Sample 2) $\\sim B(n_2p_2, n_2p_2(1-p_2))$ \n",
    "- Approximation: $N(n_2p_2, n_2p_2(1-p_2))$ \n",
    "- $P_2$(Proportion 2) = $\\frac{S_2}{n_2} \\sim N(p_2, \\frac{p_2(1-p_2)}{n2})$ \n",
    "\n",
    "#### Step 3. The question is transformed into a comparison of the means between two Normal Distribution\n",
    "$P_1 - P_2 \\sim N(p1 - p2, \\frac{p_1(1-p_1)}{n1} + \\frac{p_2(1-p_2)}{n2})$  \n",
    "\n",
    "#### Step 4. Estimation of mean and standard deviation of $P_1 - P_2$\n",
    "Mean: \n",
    "- we use $\\hat{p_1} = \\frac{s_1}{n_1}$ to estimate $p_1$, $\\hat{p_2} = \\frac{s_2}{n_2}$ to estimate $p_2$\n",
    "- we use $\\hat{p_1} - \\hat{p_2}$ to estimate $p1 - p2$\n",
    "\n",
    "Standard Error\n",
    "- Pooled version: given $H_0$($p1 = p2 = p$) is true, we can simplify the Variance into $p(1-p)(\\frac{1}{n_1} + \\frac{1}{n_2})$, where $p = \\frac{n_1p_1 + n2_p2}{n1+n_2}$. Here we use $\\hat{p} = \\frac{n_1\\hat{p_1} + n_2\\hat{p_2}}{n1 + n2}$ to estimate $p$. So we can get our estimate to Variance: $\\hat{p}(1-\\hat{p})(\\frac{1}{n_1} + \\frac{1}{n_2})$\n",
    "- Unpooled version: $SE = \\frac{\\hat{p_1}(1-\\hat{p_1})}{n1} + \\frac{\\hat{p_2}(1-\\hat{p_2})}{n2}$\n",
    "\n",
    "#### Step 5. Z-score and CI\n",
    "- $Z-score = \\frac{(\\hat{p_1} - \\hat{p_2}) - 0}{SE}$\n",
    "- CI = $p_1 - p_2 \\pm Z_{\\alpha/2} * SE = 0 \\pm Z_{\\alpha/2} * SE$"
   ]
  },
  {
   "cell_type": "code",
   "execution_count": 54,
   "metadata": {},
   "outputs": [
    {
     "data": {
      "text/plain": [
       "(1.959963984540054, 0.9749962601845973)"
      ]
     },
     "execution_count": 54,
     "metadata": {},
     "output_type": "execute_result"
    }
   ],
   "source": [
    "st.norm.ppf(0.975), st.norm.cdf(1.9599)"
   ]
  },
  {
   "cell_type": "code",
   "execution_count": 43,
   "metadata": {},
   "outputs": [
    {
     "data": {
      "text/plain": [
       "0.33094407441560325"
      ]
     },
     "execution_count": 43,
     "metadata": {},
     "output_type": "execute_result"
    }
   ],
   "source": [
    "from statsmodels.stats.proportion import proportions_ztest\n",
    "\n",
    "count = np.array([200, 182])\n",
    "nobs = np.array([23739, 22588])\n",
    "\n",
    "stat, pval = proportions_ztest(count, nobs, alternative='larger')\n",
    "pval"
   ]
  },
  {
   "cell_type": "markdown",
   "metadata": {},
   "source": [
    "## One-way Anova\n",
    "\n",
    "Assumption:\n",
    "- the samples are independent simple random samples.\n",
    "- the populations are normally distributed.\n",
    "- the population variances are equal. $\\sigma_1^2 = \\sigma_1^2 = \\sigma_k^2 = ... = \\sigma^2$\n",
    "\n",
    "one-way ANOVA is a statistical method that tests:  \n",
    "    $H_0 : \\mu_1 = \\mu_2 = ... = \\mu_k$  \n",
    "by comparing the variability between groups to the variability within groups"
   ]
  },
  {
   "cell_type": "code",
   "execution_count": null,
   "metadata": {
    "collapsed": true
   },
   "outputs": [],
   "source": []
  },
  {
   "cell_type": "code",
   "execution_count": null,
   "metadata": {
    "collapsed": true
   },
   "outputs": [],
   "source": []
  }
 ],
 "metadata": {
  "kernelspec": {
   "display_name": "Python 2",
   "language": "python",
   "name": "python2"
  },
  "language_info": {
   "codemirror_mode": {
    "name": "ipython",
    "version": 2
   },
   "file_extension": ".py",
   "mimetype": "text/x-python",
   "name": "python",
   "nbconvert_exporter": "python",
   "pygments_lexer": "ipython2",
   "version": "2.7.13"
  }
 },
 "nbformat": 4,
 "nbformat_minor": 2
}
