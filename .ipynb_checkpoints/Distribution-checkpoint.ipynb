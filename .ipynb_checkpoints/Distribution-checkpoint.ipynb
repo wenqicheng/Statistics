{
 "cells": [
  {
   "cell_type": "markdown",
   "metadata": {},
   "source": [
    "## Topic 1: Distribution"
   ]
  },
  {
   "cell_type": "markdown",
   "metadata": {},
   "source": [
    "### Discrete"
   ]
  },
  {
   "cell_type": "markdown",
   "metadata": {},
   "source": [
    "#### 1. Bernoulli Distribution(Yes or No question):\n",
    "the discrete probability distribution of a random variable which takes the value __1__ with probability __p__ and and value __0__ with probability __q = 1 - p__"
   ]
  },
  {
   "cell_type": "markdown",
   "metadata": {},
   "source": [
    "\\begin{align}\n",
    "P(X = x) = p^k(1-p)^{n-k},\\ for\\ x = 0, 1 \\\\\n",
    "P(X = 1) = p \\\\\n",
    "P(X = 0) = 1 - p \\\\\n",
    "\\mu = p \\\\\n",
    "\\sigma^2 = p(1-p) \n",
    "\\end{align}"
   ]
  },
  {
   "cell_type": "markdown",
   "metadata": {},
   "source": [
    "#### 2. Binomial Distribution(flip coin question):\n",
    "the discrete probability distribution of the number of successes in a sequence of n independent experiments, each is independently __Bernoulli Distributed__"
   ]
  },
  {
   "cell_type": "markdown",
   "metadata": {},
   "source": [
    "\\begin{align}\n",
    "For\\ each\\ trial: P(Success) = p \\\\\n",
    "P:(Failure) = 1 - p \\\\\n",
    "X\\ represents\\ the\\ number\\ of\\ succesess\\ in\\ n\\ trials \\\\\n",
    "\\end{align}"
   ]
  },
  {
   "cell_type": "markdown",
   "metadata": {},
   "source": [
    "\\begin{align}\n",
    "P(X = x) = {n \\choose x}p^x(1-p)^{n-x},\\ for\\ x = 0,1,2,...,n \\\\\n",
    "\\mu = np \\\\\n",
    "\\sigma^2 = np(1-p)\n",
    "\\end{align}"
   ]
  },
  {
   "cell_type": "markdown",
   "metadata": {},
   "source": [
    "#### 3. Poisson Distribution:\n",
    "the discrete probability of a given number of events occurring in a fixed interval of time or space(event are occuring randomly and independently) \n",
    "- these events occur with a known constant rate\n",
    "- these events occur independently of the time since the last event"
   ]
  },
  {
   "cell_type": "markdown",
   "metadata": {},
   "source": [
    "\\begin{align}\n",
    "P(X = x) = \\frac{\\lambda^xe^{-\\lambda}}{x!},\\ for\\ x = 0,1,2,.... \\\\\n",
    "\\mu = \\lambda \\\\\n",
    "\\sigma^2 = \\lambda\n",
    "\\end{align}"
   ]
  },
  {
   "cell_type": "markdown",
   "metadata": {
    "collapsed": true
   },
   "source": [
    "#### 4. Geometric Distribution\n",
    "the discrete probabiity of the number X of __Bernoulli trials__ needed to get one success.\n",
    "- the first x -1 trials must be failures.\n",
    "- the xth trial must be a success."
   ]
  },
  {
   "cell_type": "markdown",
   "metadata": {},
   "source": [
    "\\begin{align}\n",
    "P(X = x) = (1 - p)^{x-1}p,\\ for\\ x\\ =\\ 1,2,3  \\\\\n",
    "\\mu = \\frac{1}{p} \\\\\n",
    "\\sigma^2 = \\frac{1-p}{p^2}\n",
    "\\end{align}"
   ]
  },
  {
   "cell_type": "markdown",
   "metadata": {},
   "source": [
    "cumulative distribution function for the geometric distribution:"
   ]
  },
  {
   "cell_type": "markdown",
   "metadata": {},
   "source": [
    "\\begin{equation*} \n",
    "F(x) = P(X \\leq x) = 1- {1-p}^x\n",
    "\\end{equation*}"
   ]
  },
  {
   "cell_type": "markdown",
   "metadata": {},
   "source": [
    "### Continuous"
   ]
  },
  {
   "cell_type": "markdown",
   "metadata": {},
   "source": [
    "#### 1. Uniform  \n",
    "$$\n",
    "X \\sim U(a, b)\n",
    "$$"
   ]
  },
  {
   "cell_type": "markdown",
   "metadata": {},
   "source": [
    "all intervals of the same length on the distribution's support are equally probable  "
   ]
  },
  {
   "cell_type": "markdown",
   "metadata": {},
   "source": [
    "probabiity density function:\n",
    "\\begin{align}\n",
    "    f(x) = \\begin{cases}\n",
    "        \\frac{1}{b-a},& \\text{for $a \\leq x \\leq b$}.\\\\\n",
    "        0,& \\text{for $x < a\\ or\\ x > b$}.\n",
    "    \\end{cases}\n",
    "\\end{align}"
   ]
  },
  {
   "cell_type": "markdown",
   "metadata": {},
   "source": [
    "$$\n",
    "    f(x) = \\begin{cases}\n",
    "        \\frac{1}{b-a},& \\text{for $a \\leq x \\leq b$}.\\\\\n",
    "        0,& \\text{for $x < a\\ or\\ x > b$}.\n",
    "    \\end{cases}\n",
    "$$"
   ]
  },
  {
   "cell_type": "markdown",
   "metadata": {},
   "source": [
    "\\begin{align}\n",
    "    \\mu = \\frac{a+b}{2} \\\\\n",
    "    \\sigma^2 = \\frac{(b - a)^{2}}{12}\n",
    "\\end{align}"
   ]
  },
  {
   "cell_type": "markdown",
   "metadata": {},
   "source": [
    "#### 2. Normal/Gaussian\n",
    "$$\n",
    "X \\sim N(\\mu, \\sigma^2)\n",
    "$$"
   ]
  },
  {
   "cell_type": "markdown",
   "metadata": {},
   "source": [
    "the probability density function(pdf) is:\n",
    "\\begin{align}\n",
    "f(x) = \\frac{1}{\\sqrt{2\\pi}\\sigma}e^{-\\frac{1}{2\\sigma^2}(x-\\mu)^2},\\ for -\\infty < x < \\infty \\\\\n",
    "\\mu = \\mu \\\\\n",
    "\\sigma^2 = \\sigma^2\n",
    "\\end{align}"
   ]
  },
  {
   "cell_type": "markdown",
   "metadata": {},
   "source": [
    "##### Standord normal distribution\n",
    "$$\n",
    "Z \\sim N(0, 1)\n",
    "$$"
   ]
  },
  {
   "cell_type": "markdown",
   "metadata": {},
   "source": [
    "#### 3. Exponential"
   ]
  },
  {
   "cell_type": "markdown",
   "metadata": {},
   "source": [
    "### Central Limit Theorem:\n",
    "The sample mean will be aproximately normally distributed for large sample sizes, regardless of the distribution from which we are sampling"
   ]
  },
  {
   "cell_type": "markdown",
   "metadata": {},
   "source": [
    "- The mean of a smapling distribution of $\\bar{X}$ is equal to the population mean\n",
    "\\begin{equation}\n",
    "\\mu_\\bar{X} = \\mu,\\ \\mu\\ is\\ the\\ true\\ population\\ mean\n",
    "\\end{equation}\n",
    "- The standard deviation of the sampling distribution of $\\bar{X}$ is equal to:\n",
    "\\begin{equation}\n",
    "\\sigma_\\bar{X} = \\frac{\\sigma}{\\sqrt{n}},\\ \\sigma\\ is\\ the\\ true\\ population\\ stardard\\ devication,\\ n\\ is\\ the\\ sample\\ size\n",
    "\\end{equation}\n"
   ]
  },
  {
   "cell_type": "markdown",
   "metadata": {},
   "source": [
    "\\begin{equation}\n",
    "\\bar{X} \\sim N(\\mu, \\frac{\\sigma}{\\sqrt{n}})\n",
    "\\end{equation}"
   ]
  },
  {
   "cell_type": "markdown",
   "metadata": {},
   "source": [
    "## Topic 2: Hypothesis Test"
   ]
  },
  {
   "cell_type": "markdown",
   "metadata": {},
   "source": [
    "The null hypothesis is $H_0: \\mu = \\mu_0$  \n",
    "possible alternatives hypothesis: \n",
    "- $H_a: \\mu < \\mu_0$ (one-sided/tailed test)\n",
    "- $H_a: \\mu > \\mu_0$ (one-sided/tailed)\n",
    "- $H_a: \\mu \\neq \\mu_0$ (two-sided/tailed)\n",
    "\n",
    "\n",
    "There are two scenarios:\n",
    "- $\\sigma$ is known, Z-test\n",
    "- $\\sigma$ is unknown, Z-test"
   ]
  },
  {
   "cell_type": "markdown",
   "metadata": {},
   "source": [
    "#### 1. Z-test\n",
    "$$\n",
    "Z \\sim X(\\mu, \\sigma^2)\n",
    "$$"
   ]
  },
  {
   "cell_type": "code",
   "execution_count": null,
   "metadata": {},
   "outputs": [],
   "source": []
  },
  {
   "cell_type": "code",
   "execution_count": null,
   "metadata": {},
   "outputs": [],
   "source": []
  }
 ],
 "metadata": {
  "kernelspec": {
   "display_name": "Python 3",
   "language": "python",
   "name": "python3"
  },
  "language_info": {
   "codemirror_mode": {
    "name": "ipython",
    "version": 3
   },
   "file_extension": ".py",
   "mimetype": "text/x-python",
   "name": "python",
   "nbconvert_exporter": "python",
   "pygments_lexer": "ipython3",
   "version": "3.6.5"
  }
 },
 "nbformat": 4,
 "nbformat_minor": 2
}
