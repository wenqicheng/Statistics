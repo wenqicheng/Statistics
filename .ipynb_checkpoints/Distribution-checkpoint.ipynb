{
 "cells": [
  {
   "cell_type": "code",
   "execution_count": 8,
   "metadata": {},
   "outputs": [
    {
     "ename": "ModuleNotFoundError",
     "evalue": "No module named 'scripy'",
     "output_type": "error",
     "traceback": [
      "\u001b[1;31m---------------------------------------------------------------------------\u001b[0m",
      "\u001b[1;31mModuleNotFoundError\u001b[0m                       Traceback (most recent call last)",
      "\u001b[1;32m<ipython-input-8-548018b84c97>\u001b[0m in \u001b[0;36m<module>\u001b[1;34m()\u001b[0m\n\u001b[0;32m      1\u001b[0m \u001b[1;32mimport\u001b[0m \u001b[0mpandas\u001b[0m \u001b[1;32mas\u001b[0m \u001b[0mpd\u001b[0m\u001b[1;33m\u001b[0m\u001b[0m\n\u001b[0;32m      2\u001b[0m \u001b[1;32mimport\u001b[0m \u001b[0mnumpy\u001b[0m \u001b[1;32mas\u001b[0m \u001b[0mnp\u001b[0m\u001b[1;33m\u001b[0m\u001b[0m\n\u001b[1;32m----> 3\u001b[1;33m \u001b[1;32mimport\u001b[0m \u001b[0mscripy\u001b[0m\u001b[1;33m.\u001b[0m\u001b[0mstats\u001b[0m \u001b[1;32mas\u001b[0m \u001b[0mst\u001b[0m\u001b[1;33m\u001b[0m\u001b[0m\n\u001b[0m",
      "\u001b[1;31mModuleNotFoundError\u001b[0m: No module named 'scripy'"
     ]
    }
   ],
   "source": [
    "import pandas as pd\n",
    "import numpy as np\n",
    "import scripy.stats as st"
   ]
  },
  {
   "cell_type": "markdown",
   "metadata": {},
   "source": [
    "## Topic 1: Distribution"
   ]
  },
  {
   "cell_type": "markdown",
   "metadata": {},
   "source": [
    "__probability mass function(pmf)__: a probability mass function (pmf) is a function that gives the probability that a discrete random variable is exactly equal to some value.  \n",
    "__probability density function(pdf)__: A probability mass function differs from a probability density function (pdf) in that the latter is associated with continuous rather than discrete random variables; the values of the probability density function are not probabilities as such: a pdf must be integrated over an interval to yield a probability.  \n",
    "__cumulative distribution function__: the probability that X will take a value less than or equal to x."
   ]
  },
  {
   "cell_type": "markdown",
   "metadata": {},
   "source": [
    "### Discrete"
   ]
  },
  {
   "cell_type": "markdown",
   "metadata": {},
   "source": [
    "#### 1. Bernoulli Distribution(Yes or No question):\n",
    "the discrete probability distribution of a random variable which takes the value __1__ with probability __p__ and and value __0__ with probability __q = 1 - p__"
   ]
  },
  {
   "cell_type": "markdown",
   "metadata": {},
   "source": [
    "$$\n",
    "P(X = x) = p^k(1-p)^{n-k},\\ for\\ x = 0, 1 \\\\\n",
    "P(X = 1) = p \\\\\n",
    "P(X = 0) = 1 - p \\\\\n",
    "\\mu = p \\\\\n",
    "\\sigma^2 = p(1-p) \n",
    "$$"
   ]
  },
  {
   "cell_type": "markdown",
   "metadata": {},
   "source": [
    "#### 2. Binomial Distribution(flip coin question):\n",
    "the discrete probability distribution of the number of successes in a sequence of n independent experiments, each is independently __Bernoulli Distributed__"
   ]
  },
  {
   "cell_type": "markdown",
   "metadata": {},
   "source": [
    "\\begin{align}\n",
    "For\\ each\\ trial: P(Success) = p \\\\\n",
    "P:(Failure) = 1 - p \\\\\n",
    "X\\ represents\\ the\\ number\\ of\\ succesess\\ in\\ n\\ trials \\\\\n",
    "\\end{align}"
   ]
  },
  {
   "cell_type": "markdown",
   "metadata": {},
   "source": [
    "\\begin{align}\n",
    "P(X = x) = {n \\choose x}p^x(1-p)^{n-x},\\ for\\ x = 0,1,2,...,n \\\\\n",
    "\\mu = np \\\\\n",
    "\\sigma^2 = np(1-p)\n",
    "\\end{align}"
   ]
  },
  {
   "cell_type": "markdown",
   "metadata": {},
   "source": [
    "#### 3. Poisson Distribution:\n",
    "the discrete probability of a given number of events occurring in a fixed interval of time or space(event are occuring randomly and independently) \n",
    "- these events occur with a known constant rate\n",
    "- these events occur independently of the time since the last event"
   ]
  },
  {
   "cell_type": "markdown",
   "metadata": {},
   "source": [
    "\\begin{align}\n",
    "P(X = x) = \\frac{\\lambda^xe^{-\\lambda}}{x!},\\ for\\ x = 0,1,2,.... \\\\\n",
    "\\mu = \\lambda \\\\\n",
    "\\sigma^2 = \\lambda\n",
    "\\end{align}"
   ]
  },
  {
   "cell_type": "markdown",
   "metadata": {
    "collapsed": true
   },
   "source": [
    "#### 4. Geometric Distribution\n",
    "the discrete probabiity of the number X of __Bernoulli trials__ needed to get one success.\n",
    "- the first x -1 trials must be failures.\n",
    "- the xth trial must be a success."
   ]
  },
  {
   "cell_type": "markdown",
   "metadata": {},
   "source": [
    "\\begin{align}\n",
    "P(X = x) = (1 - p)^{x-1}p,\\ for\\ x\\ =\\ 1,2,3  \\\\\n",
    "\\mu = \\frac{1}{p} \\\\\n",
    "\\sigma^2 = \\frac{1-p}{p^2}\n",
    "\\end{align}"
   ]
  },
  {
   "cell_type": "markdown",
   "metadata": {},
   "source": [
    "cumulative distribution function for the geometric distribution:"
   ]
  },
  {
   "cell_type": "markdown",
   "metadata": {},
   "source": [
    "\\begin{equation*} \n",
    "F(x) = P(X \\leq x) = 1- {1-p}^x\n",
    "\\end{equation*}"
   ]
  },
  {
   "cell_type": "markdown",
   "metadata": {},
   "source": [
    "### Continuous"
   ]
  },
  {
   "cell_type": "markdown",
   "metadata": {},
   "source": [
    "#### 1. Uniform  \n",
    "$$\n",
    "X \\sim U(a, b)\n",
    "$$"
   ]
  },
  {
   "cell_type": "markdown",
   "metadata": {},
   "source": [
    "all intervals of the same length on the distribution's support are equally probable  "
   ]
  },
  {
   "cell_type": "markdown",
   "metadata": {},
   "source": [
    "probabiity density function:\n",
    "$$\n",
    "    f(x) = \\begin{cases}\n",
    "        \\frac{1}{b-a},& \\text{for $a \\leq x \\leq b$}.\\\\\n",
    "        0,& \\text{for $x < a\\ or\\ x > b$}.\n",
    "    \\end{cases}\n",
    "$$"
   ]
  },
  {
   "cell_type": "markdown",
   "metadata": {},
   "source": [
    "\\begin{align}\n",
    "    \\mu = \\frac{a+b}{2} \\\\\n",
    "    \\sigma^2 = \\frac{(b - a)^{2}}{12}\n",
    "\\end{align}"
   ]
  },
  {
   "cell_type": "markdown",
   "metadata": {},
   "source": [
    "#### 2. Normal/Gaussian\n",
    "$$\n",
    "X \\sim N(\\mu, \\sigma^2)\n",
    "$$"
   ]
  },
  {
   "cell_type": "markdown",
   "metadata": {},
   "source": [
    "the probability density function(pdf) is:\n",
    "\\begin{align}\n",
    "f(x) = \\frac{1}{\\sqrt{2\\pi}\\sigma}e^{-\\frac{1}{2\\sigma^2}(x-\\mu)^2},\\ for -\\infty < x < \\infty \\\\\n",
    "\\mu = \\mu \\\\\n",
    "\\sigma^2 = \\sigma^2\n",
    "\\end{align}"
   ]
  },
  {
   "cell_type": "markdown",
   "metadata": {},
   "source": [
    "#### Standord normal distribution\n",
    "$$\n",
    "Z \\sim N(0, 1)\n",
    "$$"
   ]
  },
  {
   "cell_type": "markdown",
   "metadata": {},
   "source": [
    "#### 3. Exponential"
   ]
  },
  {
   "cell_type": "markdown",
   "metadata": {},
   "source": [
    "### Central Limit Theorem:\n",
    "The sample mean will be aproximately normally distributed for large sample sizes, regardless of the distribution from which we are sampling"
   ]
  },
  {
   "cell_type": "markdown",
   "metadata": {},
   "source": [
    "- The mean of a smapling distribution of $\\bar{X}$ is equal to the population mean\n",
    "\\begin{equation}\n",
    "\\mu_\\bar{X} = \\mu,\\ \\mu\\ is\\ the\\ true\\ population\\ mean\n",
    "\\end{equation}\n",
    "- The standard deviation of the sampling distribution of $\\bar{X}$ is equal to:\n",
    "\\begin{equation}\n",
    "\\sigma_\\bar{X} = \\frac{\\sigma}{\\sqrt{n}},\\ \\sigma\\ is\\ the\\ true\\ population\\ stardard\\ devication,\\ n\\ is\\ the\\ sample\\ size\n",
    "\\end{equation}\n"
   ]
  },
  {
   "cell_type": "markdown",
   "metadata": {},
   "source": [
    "\\begin{equation}\n",
    "\\bar{X} \\sim N(\\mu, \\frac{\\sigma}{\\sqrt{n}})\n",
    "\\end{equation}"
   ]
  },
  {
   "cell_type": "markdown",
   "metadata": {},
   "source": [
    "## Topic 2: Hypothesis Test\n",
    "Is there strong evidence that the population mean $\\mu$ is differenet from some value that is of interest to us.\n",
    "Is it different from some hypothesized value?"
   ]
  },
  {
   "cell_type": "markdown",
   "metadata": {},
   "source": [
    "The null hypothesis is $H_0: \\mu = \\mu_0$  \n",
    "possible alternatives hypothesis: \n",
    "- $H_a: \\mu < \\mu_0$ (one-sided/tailed test)\n",
    "- $H_a: \\mu > \\mu_0$ (one-sided/tailed)\n",
    "- $H_a: \\mu \\neq \\mu_0$ (two-sided/tailed)\n",
    "\n",
    "\n",
    "There are two scenarios:\n",
    "- $\\sigma$ is known, Z-test\n",
    "- $\\sigma$ is unknown, T-test"
   ]
  },
  {
   "cell_type": "markdown",
   "metadata": {},
   "source": [
    "#### 1. Z-test\n",
    "$$\n",
    "Z \\sim X(\\mu, \\sigma^2)\n",
    "$$\n",
    "\n",
    "suppose we have a simple random sample of n observations from a normally distributed population where $\\sigma$ is known. The normality assumption, that we are sampling from a normally distributed populaiton is very important when the sample size is small. But as the sample size goes bigger and bigger, it is less and less important due to the centrel limit theorem."
   ]
  },
  {
   "cell_type": "markdown",
   "metadata": {},
   "source": [
    "To test $H_0: \\mu = \\mu_0$, we use the test statistic(Z statistic):\n",
    "\\begin{equation}\n",
    "Z = \\frac{\\bar{X} - \\mu_0}{\\sigma_\\bar{X}} = \\frac{\\bar{X} - \\mu_0}{\\sigma/\\sqrt{n}}\\\\\n",
    "where:\\ \\sigma_\\bar{X} = \\frac{\\sigma}{\\sqrt{n}} \n",
    "\\end{equation}\n",
    "Note:$\\sigma$ is population mean  \n",
    "Because of the centrel limit theorem: $$ \\bar{X} \\sim (\\mu, \\frac{\\sigma^2}{\\sqrt{n}}) $$ \n",
    "$$\\frac{\\bar{X} - \\mu_0}{\\sigma/\\sqrt{n}} \\sim N(0, 1) $$"
   ]
  },
  {
   "cell_type": "markdown",
   "metadata": {},
   "source": [
    "#### 2. Rejection Region Approach\n",
    "1. choose a value for $\\alpha$, the significance level of the test.  \n",
    "$\\alpha$ is the probability of rejecting the null hypothesis if it is true\n",
    "2. Find the appropriate rejectoin region.\n",
    "3. Reject the null hypothesis if the test statistic falls in the rejection region."
   ]
  },
  {
   "cell_type": "markdown",
   "metadata": {},
   "source": [
    "#### 3. P-value  \n",
    "The p-value is a measure of the strength of the evidence against the null hypothesis.\n",
    "\n",
    "__The definition__:  \n",
    "the p-value is the probability of getting the ovserved value of the test statistic, or a vlaue with even greater evidence against null hypothesis, if the null hypothesis is true.  \n",
    "\n",
    "- The smaller the p-value, the greater the evidence against the null hypothesis.  \n",
    "- If we have a given significance level $\\alpha$, then: reject $H_0$ if p-value <= $\\alpha$.  \n",
    "(if p-value <= $\\alpha$, the evidence against $H_0$ is significant at the $\\alpha$ level of significance)\n",
    "\n"
   ]
  },
  {
   "cell_type": "markdown",
   "metadata": {},
   "source": [
    "#### 4. Type I errors, Type II errors, Power of the Test.\n",
    "\n",
    "- A Type I error is rejecting $H_0$ when, in reality, it is true.  \n",
    "P(Tytpe I error|$H_0$ is true) = $\\alpha$  \n",
    "- A Type II error is failing to reject $H_0$ when, in reality, it is false.  \n",
    "P(Tytpe II error|$H_0$ is false) = $\\beta$  \n",
    "$\\beta$ depends on a number of factors, including the choice of $\\alpha$, the sample size, and the true value of the parameter  \n",
    "- Power is the probability of rejecting the null hypothesis, given it is false  \n",
    "Power = 1 - P(Type II error) = 1 - $\\beta$"
   ]
  },
  {
   "cell_type": "markdown",
   "metadata": {},
   "source": [
    "|   ||               __Underlying reality__(unknown)|\n",
    "|----|------------|----------------|----------------|\n",
    "|    |            |$H_0$ is false  |$H_0$ is true   |\n",
    "|__conclusion from test__(known)|reject $H_0$|correct decision|Type I error|\n",
    "|    |Accept $H_0$|Type II error   |correct decision|"
   ]
  },
  {
   "cell_type": "markdown",
   "metadata": {},
   "source": [
    "if we choose a very small $\\alpha$, we will be making it very hard to reject the $H_0$. Then we will have a small chance to make a Type I error, but we have a very high chance to make a Type II error. The Power of the test is high.\n",
    "\n",
    "If we choose a larger value of $\\alpha$, it will be vice versa. The Power of the test is low."
   ]
  },
  {
   "cell_type": "markdown",
   "metadata": {},
   "source": [
    "||||Relationship between parameters|\n",
    "|-|-|-|-|-|-|\n",
    "|$\\alpha$ up|P(reject) up|P(Type I) up|P(Type II) down|$\\beta$ down|Power up|\n",
    "|$\\alpha$ down|P(reject) down|P(Type I) down|P(Type II) up|$\\beta$ up|Power down|"
   ]
  },
  {
   "cell_type": "markdown",
   "metadata": {},
   "source": [
    "#### 5. Confident Interval"
   ]
  },
  {
   "cell_type": "markdown",
   "metadata": {},
   "source": [
    "Z-teste: we would reject $H_0$ at $\\alpha$ = 0.05, if\n",
    "$$\n",
    " \\frac{\\bar{X} - \\mu_0}{\\sigma/\\sqrt{n}} <= -1.96\\ or\\ \\frac{\\bar{X} - \\mu_0}{\\sigma/\\sqrt{n}} >= 1.96\n",
    "$$\n",
    "isolating $\\mu_0$, we would reject $H_0$:\n",
    "$$\n",
    "\\mu_0 >= \\bar{X} + 1.96*\\frac{\\sigma}{\\sqrt{n}}\\ or\\ \\mu_0 <= \\bar{X} - 1.96*\\frac{\\sigma}{\\sqrt{n}}\n",
    "$$\n",
    "\n",
    "- The upper bound of the 95% confidence interval is $\\bar{X} + 1.96*\\frac{\\sigma}{\\sqrt{n}}$  \n",
    "- The lower bound of the 95% confidence interval is $\\bar{X} - 1.96*\\frac{\\sigma}{\\sqrt{n}}$"
   ]
  },
  {
   "cell_type": "markdown",
   "metadata": {},
   "source": [
    "#### 6. Distribution of P-value"
   ]
  },
  {
   "cell_type": "markdown",
   "metadata": {},
   "source": [
    "$H_0$: $\\mu$ = 0  \n",
    "$H_a$: $\\mu$ > 0  \n",
    "where population_sigma = 1.\n",
    "\n",
    "I am testing 3 scenarios.\n",
    "- The population mean is 0, which means $H_0$ is ture\n",
    "- The population mean is 1, which means $H_0$ is false\n",
    "- The populaiton mean is 2, which means $H_0$ is false  \n",
    "\n",
    "I picked up 1000 samples from each scenario with sample size 50. After calculating the P-value of each sample, we can histgram the distribution of P-value for each scenario."
   ]
  },
  {
   "cell_type": "code",
   "execution_count": 7,
   "metadata": {
    "collapsed": true
   },
   "outputs": [],
   "source": [
    "sample_size = 50\n",
    "num_sample = 10000\n",
    "\n",
    "for i in range(0, num_sample):\n",
    "    # population_1\n",
    "    mu1, sigma1 = 0, 1\n",
    "    sample1 = np.random.normal(mu1, sigma1, sample_size)\n",
    "    \n",
    "    \n",
    "\n",
    "    # population_2\n",
    "    mu2, sigma2 = 1, 1\n",
    "    sample1 = np.random.normal(mu2, sigma2, sample_size)\n",
    "\n",
    "    # population_3\n",
    "    mu3, sigma3 = 2, 1\n",
    "    sample1 = np.random.normal(mu3, sigma3, sample_size)"
   ]
  },
  {
   "cell_type": "code",
   "execution_count": null,
   "metadata": {
    "collapsed": true
   },
   "outputs": [],
   "source": []
  },
  {
   "cell_type": "code",
   "execution_count": 6,
   "metadata": {},
   "outputs": [
    {
     "data": {
      "text/plain": [
       "array([-0.44128516, -0.60979832, -0.34385109,  1.30108423, -0.71732452,\n",
       "       -1.91477831, -0.21408047,  1.27536415,  1.06191106, -1.24144945,\n",
       "       -0.76279453, -1.0733659 ,  0.40119336,  0.53604004,  1.1890227 ,\n",
       "       -1.91696102, -1.64305129, -0.4724886 , -0.98144517,  0.75864234])"
      ]
     },
     "execution_count": 6,
     "metadata": {},
     "output_type": "execute_result"
    }
   ],
   "source": [
    "sample1 = np.random.normal(mu1, sigma1, sample_size1)"
   ]
  },
  {
   "cell_type": "markdown",
   "metadata": {},
   "source": [
    "#### 5. T-test"
   ]
  },
  {
   "cell_type": "markdown",
   "metadata": {},
   "source": [
    "To test $H_0: \\mu = \\mu_0$, we use the test statistic(T statistic):\n",
    "\\begin{equation}\n",
    "T = \\frac{\\bar{X} - \\mu_0}{\\sigma_\\bar{X}} = \\frac{\\bar{X} - \\mu_0}{\\sigma/\\sqrt{n}}\\\\\n",
    "where:\\ \\sigma_\\bar{X} = \\frac{\\sigma}{\\sqrt{n}} \n",
    "\\end{equation}\n",
    "Note:$\\sigma$ is population mean  \n",
    "Because of the centrel limit theorem: $$ \\bar{X} \\sim (\\mu, \\frac{\\sigma^2}{\\sqrt{n}}) $$ \n",
    "$$\\frac{\\bar{X} - \\mu_0}{\\sigma/\\sqrt{n}} \\sim N(0, 1) $$"
   ]
  },
  {
   "cell_type": "markdown",
   "metadata": {},
   "source": [
    "### But in most case, "
   ]
  }
 ],
 "metadata": {
  "kernelspec": {
   "display_name": "Python 2",
   "language": "python",
   "name": "python2"
  },
  "language_info": {
   "codemirror_mode": {
    "name": "ipython",
    "version": 2
   },
   "file_extension": ".py",
   "mimetype": "text/x-python",
   "name": "python",
   "nbconvert_exporter": "python",
   "pygments_lexer": "ipython2",
   "version": "2.7.13"
  }
 },
 "nbformat": 4,
 "nbformat_minor": 2
}
