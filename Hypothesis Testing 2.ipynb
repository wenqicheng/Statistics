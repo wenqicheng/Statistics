{
 "cells": [
  {
   "cell_type": "code",
   "execution_count": 1,
   "metadata": {},
   "outputs": [],
   "source": [
    "import pandas as pd\n",
    "import numpy as np\n",
    "import scipy.stats as st"
   ]
  },
  {
   "cell_type": "code",
   "execution_count": null,
   "metadata": {},
   "outputs": [],
   "source": []
  },
  {
   "cell_type": "markdown",
   "metadata": {},
   "source": [
    "### One-way Anova\n",
    "\n",
    "Assumption:\n",
    "- the samples are independent simple random samples.\n",
    "- the populations are normally distributed.\n",
    "- the population variances are equal. $\\sigma_1^2 = \\sigma_1^2 = \\sigma_k^2 = ... = \\sigma^2$\n",
    "\n",
    "one-way ANOVA is a statistical method that tests:  \n",
    "    $H_0 : \\mu_1 = \\mu_2 = ... = \\mu_k$  \n",
    "by comparing the variability between groups to the variability within groups"
   ]
  },
  {
   "cell_type": "code",
   "execution_count": null,
   "metadata": {},
   "outputs": [],
   "source": []
  }
 ],
 "metadata": {
  "kernelspec": {
   "display_name": "Python 3",
   "language": "python",
   "name": "python3"
  },
  "language_info": {
   "codemirror_mode": {
    "name": "ipython",
    "version": 3
   },
   "file_extension": ".py",
   "mimetype": "text/x-python",
   "name": "python",
   "nbconvert_exporter": "python",
   "pygments_lexer": "ipython3",
   "version": "3.7.0"
  }
 },
 "nbformat": 4,
 "nbformat_minor": 2
}
