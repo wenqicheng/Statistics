{
 "cells": [
  {
   "cell_type": "markdown",
   "metadata": {},
   "source": [
    "## Distribution"
   ]
  },
  {
   "cell_type": "markdown",
   "metadata": {},
   "source": [
    "#### 1. Bernoulli Distribution(Yes or No question):\n",
    "the discrete probability distribution of a random variable which takes the value __1__ with probability __p__ and and value __0__ with probability __q = 1 - p__"
   ]
  },
  {
   "cell_type": "markdown",
   "metadata": {},
   "source": [
    "\\begin{equation*}\n",
    "P(X = x) = p^k(1-p)^{n-k},\\ for\\ x = 0, 1 \\\\ \n",
    "P(X = 1) = p \\\\\n",
    "P(X = 0) = 1 - p \\\\  \n",
    "\\mu = p \n",
    "\\sigma^2 = p(1-p) \n",
    "\\end{equation*}"
   ]
  },
  {
   "cell_type": "markdown",
   "metadata": {},
   "source": [
    "#### 2. Binomial Distribution(flip coin question):\n",
    "the discrete probability distribution of the number of successes in a sequence of n independent experiments, each is independently __Bernoulli Distributed__"
   ]
  },
  {
   "cell_type": "markdown",
   "metadata": {},
   "source": [
    "\\begin{equation*}\n",
    "For\\ each\\ trial: P(Success) = p \\\\\n",
    "P:(Failure) = 1 - p \\\\\n",
    "X\\ represents\\ the\\ number\\ of\\ succesess\\ in\\ n\\ trials\\\\\n",
    "P(X = x) = {n \\choose x}p^x(1-p)^{n-x},\\ for\\ x = 0,1,2,...,n \\\\\n",
    "\\mu = np \\\\\n",
    "\\sigma^2 = np(1-p) \\\\\n",
    "\\end{equation*}"
   ]
  },
  {
   "cell_type": "markdown",
   "metadata": {},
   "source": [
    "#### 3. Poisson Distribution:\n",
    "the discrete probability of a given number of events occurring in a fixed interval of time or space(event are occuring randomly and independently) \n",
    "- these events occur with a known constant rate\n",
    "- these events occur independently of the time since the last event"
   ]
  },
  {
   "cell_type": "markdown",
   "metadata": {},
   "source": [
    "\\begin{equation*}\n",
    "P(X = x) = \\frac{\\lambda^xe^{-\\lambda}}{x!},\\ for\\ x = 0,1,2,.... \\\\\n",
    "\\mu = \\lambda \\\\\n",
    "\\sigma^2 = \\lambda \\\\\n",
    "\\end{equation*}"
   ]
  },
  {
   "cell_type": "code",
   "execution_count": null,
   "metadata": {},
   "outputs": [],
   "source": []
  }
 ],
 "metadata": {
  "kernelspec": {
   "display_name": "Python 3",
   "language": "python",
   "name": "python3"
  },
  "language_info": {
   "codemirror_mode": {
    "name": "ipython",
    "version": 3
   },
   "file_extension": ".py",
   "mimetype": "text/x-python",
   "name": "python",
   "nbconvert_exporter": "python",
   "pygments_lexer": "ipython3",
   "version": "3.6.5"
  }
 },
 "nbformat": 4,
 "nbformat_minor": 2
}
